{
 "metadata": {
  "name": "",
  "signature": "sha256:f0832ed7fda99e71da2f00c09f3b32d31d59e72b1d15fd563d6ad54772601e19"
 },
 "nbformat": 3,
 "nbformat_minor": 0,
 "worksheets": [
  {
   "cells": [
    {
     "cell_type": "code",
     "collapsed": false,
     "input": [
      "# Import matplotlib (plotting) and numpy (numerical arrays).\n",
      "# This enables their use in the Notebook.\n",
      "%matplotlib inline\n",
      "import matplotlib.pyplot as plt \n",
      "import numpy as np\n",
      "\n",
      "# Create an array of 30 values for x equally spaced from 0 to 5. \n",
      "x = np.linspace(0, 5, 30)\n",
      "y = x**2\n",
      "\n",
      "# Plot y versus x\n",
      "fig, ax = plt.subplots(nrows=1, ncols=1)\n",
      "ax.plot(x, y, color='red')\n",
      "ax.set_xlabel('x')\n",
      "ax.set_ylabel('y')\n",
      "ax.set_title('A simple graph of $y=x^2$');"
     ],
     "language": "python",
     "metadata": {},
     "outputs": []
    },
    {
     "cell_type": "heading",
     "level": 3,
     "metadata": {},
     "source": [
      "Can you plot the function of square root of x?"
     ]
    },
    {
     "cell_type": "code",
     "collapsed": false,
     "input": [],
     "language": "python",
     "metadata": {},
     "outputs": []
    }
   ],
   "metadata": {}
  }
 ]
}