{
 "metadata": {
  "name": "",
  "signature": "sha256:a952f34bdfbb0d3714bdfdb4538c09cb7a2417d120d94a868daf5453fec8db15"
 },
 "nbformat": 3,
 "nbformat_minor": 0,
 "worksheets": [
  {
   "cells": [
    {
     "cell_type": "heading",
     "level": 1,
     "metadata": {},
     "source": [
      "GA Lab: iPython Notebook / Python"
     ]
    },
    {
     "cell_type": "heading",
     "level": 2,
     "metadata": {},
     "source": [
      "iPython Notebook"
     ]
    },
    {
     "cell_type": "markdown",
     "metadata": {},
     "source": [
      "- Shift + Enter executes the current highlight cell\n",
      "- Shift + Tab help for current command"
     ]
    },
    {
     "cell_type": "code",
     "collapsed": false,
     "input": [
      "from IPython.core.display import HTML\n",
      "HTML(\"<iframe src=http://www.nature.com/news/ipython-interactive-demo-7.21492 width=1000 height=800></iframe>\")"
     ],
     "language": "python",
     "metadata": {},
     "outputs": []
    },
    {
     "cell_type": "heading",
     "level": 3,
     "metadata": {},
     "source": [
      "import statements"
     ]
    },
    {
     "cell_type": "code",
     "collapsed": false,
     "input": [
      "import numpy as np\n",
      "import pandas as pd\n",
      "import matplotlib.pyplot as plt\n",
      "from scipy.optimize import curve_fit\n",
      "\n",
      "%matplotlib inline"
     ],
     "language": "python",
     "metadata": {},
     "outputs": []
    },
    {
     "cell_type": "heading",
     "level": 3,
     "metadata": {},
     "source": [
      "execute shell commands"
     ]
    },
    {
     "cell_type": "code",
     "collapsed": false,
     "input": [
      "!ls -lsh"
     ],
     "language": "python",
     "metadata": {},
     "outputs": []
    },
    {
     "cell_type": "heading",
     "level": 3,
     "metadata": {},
     "source": [
      "send shell commands to variable"
     ]
    },
    {
     "cell_type": "code",
     "collapsed": false,
     "input": [
      "home_drive = !ls ~\n",
      "home_drive"
     ],
     "language": "python",
     "metadata": {},
     "outputs": []
    },
    {
     "cell_type": "heading",
     "level": 4,
     "metadata": {},
     "source": [
      "Shell magic!"
     ]
    },
    {
     "cell_type": "code",
     "collapsed": false,
     "input": [
      "%lsmagic"
     ],
     "language": "python",
     "metadata": {},
     "outputs": []
    },
    {
     "cell_type": "code",
     "collapsed": false,
     "input": [
      "%timeit a = np.random.rand(100, 100)"
     ],
     "language": "python",
     "metadata": {},
     "outputs": []
    },
    {
     "cell_type": "code",
     "collapsed": false,
     "input": [
      "a = 10\n",
      "print a\n",
      "%reset\n",
      "print a"
     ],
     "language": "python",
     "metadata": {},
     "outputs": []
    },
    {
     "cell_type": "code",
     "collapsed": false,
     "input": [
      "%%time\n",
      "mu, sigma = 0, 0.1\n",
      "normal_dist = np.random.normal(mu, sigma, 1000)"
     ],
     "language": "python",
     "metadata": {},
     "outputs": []
    },
    {
     "cell_type": "code",
     "collapsed": false,
     "input": [
      "plt.plot(normal_dist)"
     ],
     "language": "python",
     "metadata": {},
     "outputs": []
    },
    {
     "cell_type": "code",
     "collapsed": false,
     "input": [
      "import pandas.io.data\n",
      "import datetime\n",
      "aapl = pd.io.data.get_data_yahoo('FB', \n",
      "                                 start=datetime.datetime(2015, 4, 1), \n",
      "                                 end=datetime.datetime(2015, 4, 28))\n",
      "aapl.head()"
     ],
     "language": "python",
     "metadata": {},
     "outputs": []
    },
    {
     "cell_type": "heading",
     "level": 2,
     "metadata": {},
     "source": [
      "Plotting!"
     ]
    },
    {
     "cell_type": "code",
     "collapsed": false,
     "input": [
      "fig = plt.figure(figsize=(20,16))\n",
      "\n",
      "ax = fig.add_subplot(2,2,1)\n",
      "ax.plot(aapl.index, aapl['Close'])\n",
      "ax.set_title('Line plots', size=24)\n",
      "\n",
      "ax = fig.add_subplot(2,2,2)\n",
      "ax.plot(aapl['Close'], 'o')\n",
      "ax.set_title('Scatter plots', size=24)\n",
      "\n",
      "ax = fig.add_subplot(2,2,3)\n",
      "ax.hist(normal_dist, bins=50)\n",
      "ax.set_title('Histograms', size=24)\n",
      "ax.set_xlabel('count', size=16)\n",
      "\n",
      "ax = fig.add_subplot(2,2,4)\n",
      "ax.boxplot(normal_dist)\n",
      "ax.set_title('Boxplots', size=24)\n",
      "print"
     ],
     "language": "python",
     "metadata": {},
     "outputs": []
    },
    {
     "cell_type": "heading",
     "level": 2,
     "metadata": {},
     "source": [
      "1. Python Data types"
     ]
    },
    {
     "cell_type": "code",
     "collapsed": false,
     "input": [
      "type(42)"
     ],
     "language": "python",
     "metadata": {},
     "outputs": []
    },
    {
     "cell_type": "code",
     "collapsed": false,
     "input": [
      "from math import pi\n",
      "type(pi)\n",
      "print pi"
     ],
     "language": "python",
     "metadata": {},
     "outputs": []
    },
    {
     "cell_type": "code",
     "collapsed": false,
     "input": [
      "type('matt')"
     ],
     "language": "python",
     "metadata": {},
     "outputs": []
    },
    {
     "cell_type": "code",
     "collapsed": false,
     "input": [
      "type(u'matt')"
     ],
     "language": "python",
     "metadata": {},
     "outputs": []
    },
    {
     "cell_type": "heading",
     "level": 2,
     "metadata": {},
     "source": [
      "2. Basic Python execution"
     ]
    },
    {
     "cell_type": "code",
     "collapsed": false,
     "input": [
      "test_integer = 42\n",
      "test_float = pi\n",
      "test_string = 'matt'"
     ],
     "language": "python",
     "metadata": {},
     "outputs": []
    },
    {
     "cell_type": "heading",
     "level": 4,
     "metadata": {},
     "source": [
      "Basic print"
     ]
    },
    {
     "cell_type": "code",
     "collapsed": false,
     "input": [
      "print (test_integer, test_float, test_string)"
     ],
     "language": "python",
     "metadata": {},
     "outputs": []
    },
    {
     "cell_type": "heading",
     "level": 4,
     "metadata": {},
     "source": [
      "C-style formatting"
     ]
    },
    {
     "cell_type": "code",
     "collapsed": false,
     "input": [
      "print (\"%d %f %s\") % (test_integer, test_float, test_string)\n",
      "print (\"%d %.2f %s\") % (test_integer, test_float, test_string)"
     ],
     "language": "python",
     "metadata": {},
     "outputs": []
    },
    {
     "cell_type": "heading",
     "level": 4,
     "metadata": {},
     "source": [
      "Format - the pythonic way"
     ]
    },
    {
     "cell_type": "code",
     "collapsed": false,
     "input": [
      "print (\"{} {} {}\").format(test_integer, test_float, test_string)\n",
      "print (\"{} {:.2f} {}\").format(test_integer, test_float, test_string)"
     ],
     "language": "python",
     "metadata": {},
     "outputs": []
    },
    {
     "cell_type": "heading",
     "level": 2,
     "metadata": {},
     "source": [
      "Python operations"
     ]
    },
    {
     "cell_type": "code",
     "collapsed": false,
     "input": [
      "1 + 2.5"
     ],
     "language": "python",
     "metadata": {},
     "outputs": []
    },
    {
     "cell_type": "code",
     "collapsed": false,
     "input": [
      "'matt' + 1"
     ],
     "language": "python",
     "metadata": {},
     "outputs": []
    },
    {
     "cell_type": "heading",
     "level": 3,
     "metadata": {},
     "source": [
      "Python 2.7 division"
     ]
    },
    {
     "cell_type": "code",
     "collapsed": false,
     "input": [
      "numerator, denominator = 1,2"
     ],
     "language": "python",
     "metadata": {},
     "outputs": []
    },
    {
     "cell_type": "heading",
     "level": 4,
     "metadata": {},
     "source": [
      "Important to remember:"
     ]
    },
    {
     "cell_type": "code",
     "collapsed": false,
     "input": [
      "print (numerator / denominator)"
     ],
     "language": "python",
     "metadata": {},
     "outputs": []
    },
    {
     "cell_type": "code",
     "collapsed": false,
     "input": [
      "print (numerator / float(denominator))"
     ],
     "language": "python",
     "metadata": {},
     "outputs": []
    },
    {
     "cell_type": "code",
     "collapsed": false,
     "input": [
      "print 1/2\n",
      "from __future__ import division\n",
      "print 1/2"
     ],
     "language": "python",
     "metadata": {},
     "outputs": []
    },
    {
     "cell_type": "heading",
     "level": 3,
     "metadata": {},
     "source": [
      "3. Python Data Structures"
     ]
    },
    {
     "cell_type": "heading",
     "level": 2,
     "metadata": {},
     "source": [
      "Lists [ ]"
     ]
    },
    {
     "cell_type": "markdown",
     "metadata": {},
     "source": [
      "- aka arrays\n",
      "- ordered\n",
      "- mutable\n",
      "- mixed types "
     ]
    },
    {
     "cell_type": "code",
     "collapsed": false,
     "input": [
      "price_per_sq_foot = [300,324,220,976,347,888,134,95,567,1400,120]\n",
      "type(price_per_sq_foot)"
     ],
     "language": "python",
     "metadata": {},
     "outputs": []
    },
    {
     "cell_type": "heading",
     "level": 4,
     "metadata": {},
     "source": [
      "list operations:"
     ]
    },
    {
     "cell_type": "code",
     "collapsed": false,
     "input": [
      "#Number of elements in the list\n",
      "print \"There are {} elements in the list\".format(len(price_per_sq_foot))\n",
      "print\n",
      "\n",
      "#Add an item to the end of the list\n",
      "price_per_sq_foot.append(1000)\n",
      "print \"Updated price per square foot\"\n",
      "print (price_per_sq_foot)\n",
      "\n",
      "#Remove and return most recent element\n",
      "last_element = price_per_sq_foot.pop()\n",
      "print \"Last in, updated price per sq foot\"\n",
      "print (last_element, price_per_sq_foot)\n",
      "\n",
      "#Sort the array\n",
      "print \"Sorted list\"\n",
      "print sorted(price_per_sq_foot)\n",
      "\n",
      "#Reverse order\n",
      "print \"Reverse order\"\n",
      "print sorted(price_per_sq_foot)[::-1]"
     ],
     "language": "python",
     "metadata": {},
     "outputs": []
    },
    {
     "cell_type": "heading",
     "level": 4,
     "metadata": {},
     "source": [
      "List slicing"
     ]
    },
    {
     "cell_type": "code",
     "collapsed": false,
     "input": [
      "#First element\n",
      "sorted_ppsf = sorted(price_per_sq_foot)\n",
      "print \"First element\"\n",
      "print 'Cheapest: {}'.format(sorted_ppsf[0])\n",
      "print \n",
      "print \"Last element\"\n",
      "print 'Most expensive: {}'.format(sorted_ppsf[len(sorted_ppsf) - 1])\n",
      "#or\n",
      "print 'Most expensive: {}'.format(sorted_ppsf[-1])"
     ],
     "language": "python",
     "metadata": {},
     "outputs": []
    },
    {
     "cell_type": "heading",
     "level": 2,
     "metadata": {},
     "source": [
      "Tuples ( )"
     ]
    },
    {
     "cell_type": "markdown",
     "metadata": {},
     "source": [
      "- immutable\n",
      "- can't change / sort\n",
      "- functional programming"
     ]
    },
    {
     "cell_type": "code",
     "collapsed": false,
     "input": [
      "test = (1, 2)\n",
      "print test[0]\n",
      "print test[1]\n",
      "test[0] = test[1]"
     ],
     "language": "python",
     "metadata": {},
     "outputs": []
    },
    {
     "cell_type": "heading",
     "level": 2,
     "metadata": {},
     "source": [
      "Dictionary { }"
     ]
    },
    {
     "cell_type": "markdown",
     "metadata": {},
     "source": [
      "- aka associate arrays / key-value pairs\n",
      "- mutable\n",
      "- unordered"
     ]
    },
    {
     "cell_type": "code",
     "collapsed": false,
     "input": [
      "#Can contain multiple types\n",
      "employee_info = {'id': 123, 'name': 'Matthew', 'manages': [45,67,90], 'managed_by': 2}\n",
      "print \"Name {}: Headcount: {}\".format(employee_info['name'], len(employee_info['manages']))"
     ],
     "language": "python",
     "metadata": {},
     "outputs": []
    },
    {
     "cell_type": "code",
     "collapsed": false,
     "input": [
      "offensive_skill_dict = {'RB': 'Running Back', 'WR': 'Wide Receiver', 'QB': 'Quarterback', 'FB': 'Full back', 'TE': 'Tight End'}\n",
      "print offensive_skill_dict"
     ],
     "language": "python",
     "metadata": {},
     "outputs": []
    },
    {
     "cell_type": "code",
     "collapsed": false,
     "input": [
      "print offensive_skill_dict.keys()"
     ],
     "language": "python",
     "metadata": {},
     "outputs": []
    },
    {
     "cell_type": "heading",
     "level": 3,
     "metadata": {},
     "source": [
      "Sets"
     ]
    },
    {
     "cell_type": "markdown",
     "metadata": {},
     "source": [
      "- unique\n",
      "- cool operations"
     ]
    },
    {
     "cell_type": "code",
     "collapsed": false,
     "input": [
      "#remove redundant entries\n",
      "list_list = [1,1,2,4,6,8,3,1,2,4,5]\n",
      "set_list = set(list_list)\n",
      "print set_list"
     ],
     "language": "python",
     "metadata": {},
     "outputs": []
    },
    {
     "cell_type": "code",
     "collapsed": false,
     "input": [
      "#Set operations\n",
      "panel_a, panel_b = set(('BRCA1', 'BRCA2', 'TP53', 'CHEK2', 'MYC')), set(('CHEK2', 'SPHK1', 'MYCN', 'MYC'))\n",
      "\n",
      "print \"Genes in panel 1 but not in panel b: {}\\n\".format((panel_a - panel_b))\n",
      "print \"Genes in both panels (Intersection): {}\\n\".format(panel_a & panel_b)\n",
      "print \"All the genes: {}\\n\".format(panel_a | panel_b)\n",
      "print \"Genes in A that aren't in B, genes in B that aren't in A (symmetric difference): {}\\n\".format(panel_a ^ panel_b)\n"
     ],
     "language": "python",
     "metadata": {},
     "outputs": []
    },
    {
     "cell_type": "code",
     "collapsed": false,
     "input": [],
     "language": "python",
     "metadata": {},
     "outputs": []
    },
    {
     "cell_type": "heading",
     "level": 3,
     "metadata": {},
     "source": [
      "4. flow control"
     ]
    },
    {
     "cell_type": "heading",
     "level": 3,
     "metadata": {},
     "source": [
      "iterating through a list"
     ]
    },
    {
     "cell_type": "code",
     "collapsed": false,
     "input": [
      "my_list = ['Jimmy Carter','Ronald Regan','George Bush','Bill Clinton', 'George HW Bush', 'Barack Obama']"
     ],
     "language": "python",
     "metadata": {},
     "outputs": []
    },
    {
     "cell_type": "code",
     "collapsed": false,
     "input": [
      "#Not the best way\n",
      "for index in range(0, len(my_list)):\n",
      "    print my_list[index]"
     ],
     "language": "python",
     "metadata": {},
     "outputs": []
    },
    {
     "cell_type": "code",
     "collapsed": false,
     "input": [
      "#Better\n",
      "for president in my_list:\n",
      "    print (president)"
     ],
     "language": "python",
     "metadata": {},
     "outputs": []
    },
    {
     "cell_type": "code",
     "collapsed": false,
     "input": [
      "#what if I want the index too\n",
      "for index, president in enumerate(my_list):\n",
      "    print index, president"
     ],
     "language": "python",
     "metadata": {},
     "outputs": []
    },
    {
     "cell_type": "code",
     "collapsed": false,
     "input": [
      "#list comprehension - this is pythonic - and faster!\n",
      "[x for x in my_list]"
     ],
     "language": "python",
     "metadata": {},
     "outputs": []
    },
    {
     "cell_type": "heading",
     "level": 4,
     "metadata": {},
     "source": [
      "Faster?"
     ]
    },
    {
     "cell_type": "code",
     "collapsed": false,
     "input": [
      "%%timeit\n",
      "result = []\n",
      "for x in range(1,10000):\n",
      "    for y in range(1,10000):\n",
      "        result.append(x)\n",
      "len(result)"
     ],
     "language": "python",
     "metadata": {},
     "outputs": []
    },
    {
     "cell_type": "code",
     "collapsed": false,
     "input": [
      "%%timeit\n",
      "field = [x for x in range(1,10000) for y in range(1,10000)]\n",
      "len(field)"
     ],
     "language": "python",
     "metadata": {},
     "outputs": []
    },
    {
     "cell_type": "code",
     "collapsed": false,
     "input": [
      "zip"
     ],
     "language": "python",
     "metadata": {},
     "outputs": []
    },
    {
     "cell_type": "code",
     "collapsed": false,
     "input": [
      "map"
     ],
     "language": "python",
     "metadata": {},
     "outputs": []
    },
    {
     "cell_type": "code",
     "collapsed": false,
     "input": [
      "lambda"
     ],
     "language": "python",
     "metadata": {},
     "outputs": []
    },
    {
     "cell_type": "code",
     "collapsed": false,
     "input": [
      "comprehensions"
     ],
     "language": "python",
     "metadata": {},
     "outputs": []
    },
    {
     "cell_type": "heading",
     "level": 3,
     "metadata": {},
     "source": [
      "Additional Resources"
     ]
    },
    {
     "cell_type": "markdown",
     "metadata": {},
     "source": [
      "Web based viewer for ipython notebooks\n",
      "http://nbviewer.ipython.org/"
     ]
    }
   ],
   "metadata": {}
  }
 ]
}