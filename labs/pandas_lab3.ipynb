{
 "cells": [
  {
   "cell_type": "markdown",
   "metadata": {},
   "source": [
    "## Set up"
   ]
  },
  {
   "cell_type": "code",
   "execution_count": 1,
   "metadata": {
    "collapsed": false
   },
   "outputs": [
    {
     "name": "stdout",
     "output_type": "stream",
     "text": [
      "Requirement already satisfied (use --upgrade to upgrade): seaborn in /Users/David/anaconda/lib/python2.7/site-packages\r\n"
     ]
    }
   ],
   "source": [
    "# 'pip': The PyPA recommended tool for installing Python packages\n",
    "# the '!' runs the line the same as in the terminal\n",
    "\n",
    "!pip install seaborn "
   ]
  },
  {
   "cell_type": "code",
   "execution_count": 2,
   "metadata": {
    "collapsed": true
   },
   "outputs": [],
   "source": [
    "# imports a library 'pandas', names it as 'pd'\n",
    "\n",
    "import pandas as pd\n",
    "import numpy as np\n",
    "import seaborn as sns\n",
    "import matplotlib.pyplot as plt\n",
    "\n",
    "# enables inline plots, without it plots don't show up in the notebook\n",
    "%matplotlib inline"
   ]
  },
  {
   "cell_type": "markdown",
   "metadata": {},
   "source": [
    "####What problem does pandas solve?\n",
    "\n",
    "Python has long been great for data munging and preparation, but less so for data analysis and modeling. pandas helps fill this gap, enabling you to carry out your entire data analysis workflow in Python without having to switch to a more domain specific language like R.\n",
    "\n",
    "Combined with the excellent IPython toolkit and other libraries, the environment for doing data analysis in Python excels in performance, productivity, and the ability to collaborate.\n",
    "\n",
    "pandas does not implement significant modeling functionality outside of linear and panel regression; for this, look to statsmodels and scikit-learn. More work is still needed to make Python a first class statistical modeling environment, but we are well on our way toward that goal.\n",
    "\n",
    "http://pandas.pydata.org/"
   ]
  },
  {
   "cell_type": "code",
   "execution_count": 3,
   "metadata": {
    "collapsed": false
   },
   "outputs": [],
   "source": [
    "# various options in pandas\n",
    "\n",
    "pd.set_option('display.max_columns', None)\n",
    "pd.set_option('display.max_rows', 20)\n",
    "pd.set_option('display.precision', 3)"
   ]
  },
  {
   "cell_type": "markdown",
   "metadata": {},
   "source": [
    "## Load a data set"
   ]
  },
  {
   "cell_type": "markdown",
   "metadata": {},
   "source": [
    "\"Census Income\" dataset\n",
    "\n",
    "http://archive.ics.uci.edu/ml/"
   ]
  },
  {
   "cell_type": "code",
   "execution_count": 4,
   "metadata": {
    "collapsed": false
   },
   "outputs": [],
   "source": [
    "# download the data and name the columns\n",
    "cols = ['age', 'workclass', 'fnlwgt', 'education', 'education_num',\n",
    "        'marital_status', 'occupation', 'relationship', 'ethnicity',\n",
    "        'gender', 'capital_gain', 'capital_loss', 'hours_per_week',\n",
    "        'country_of_origin', 'income']\n",
    "\n",
    "df = pd.read_csv('http://archive.ics.uci.edu/ml/machine-learning-databases/adult/adult.data',\n",
    "                       names = cols)"
   ]
  },
  {
   "cell_type": "markdown",
   "metadata": {},
   "source": [
    "pandas can load a lot more than csvs, this tutorial shows how pandas can read excel, sql,\n",
    "and even copy and paste...\n",
    "\n",
    "http://www.gregreda.com/2013/10/26/intro-to-pandas-data-structures/"
   ]
  },
  {
   "cell_type": "markdown",
   "metadata": {},
   "source": [
    "## View"
   ]
  },
  {
   "cell_type": "code",
   "execution_count": 5,
   "metadata": {
    "collapsed": false
   },
   "outputs": [
    {
     "name": "stdout",
     "output_type": "stream",
     "text": [
      "<class 'pandas.core.frame.DataFrame'>\n",
      "Int64Index: 32561 entries, 0 to 32560\n",
      "Data columns (total 15 columns):\n",
      "age                  32561 non-null int64\n",
      "workclass            32561 non-null object\n",
      "fnlwgt               32561 non-null int64\n",
      "education            32561 non-null object\n",
      "education_num        32561 non-null int64\n",
      "marital_status       32561 non-null object\n",
      "occupation           32561 non-null object\n",
      "relationship         32561 non-null object\n",
      "ethnicity            32561 non-null object\n",
      "gender               32561 non-null object\n",
      "capital_gain         32561 non-null int64\n",
      "capital_loss         32561 non-null int64\n",
      "hours_per_week       32561 non-null int64\n",
      "country_of_origin    32561 non-null object\n",
      "income               32561 non-null object\n",
      "dtypes: int64(6), object(9)\n",
      "memory usage: 4.0+ MB\n"
     ]
    }
   ],
   "source": [
    "# we can see there are no null values\n",
    "# columns with numberical values are type int64, no need to set data type\n",
    "\n",
    "df.info()"
   ]
  },
  {
   "cell_type": "code",
   "execution_count": 6,
   "metadata": {
    "collapsed": false
   },
   "outputs": [
    {
     "data": {
      "text/html": [
       "<div style=\"max-height:1000px;max-width:1500px;overflow:auto;\">\n",
       "<table border=\"1\" class=\"dataframe\">\n",
       "  <thead>\n",
       "    <tr style=\"text-align: right;\">\n",
       "      <th></th>\n",
       "      <th>age</th>\n",
       "      <th>workclass</th>\n",
       "      <th>fnlwgt</th>\n",
       "      <th>education</th>\n",
       "      <th>education_num</th>\n",
       "      <th>marital_status</th>\n",
       "      <th>occupation</th>\n",
       "      <th>relationship</th>\n",
       "      <th>ethnicity</th>\n",
       "      <th>gender</th>\n",
       "      <th>capital_gain</th>\n",
       "      <th>capital_loss</th>\n",
       "      <th>hours_per_week</th>\n",
       "      <th>country_of_origin</th>\n",
       "      <th>income</th>\n",
       "    </tr>\n",
       "  </thead>\n",
       "  <tbody>\n",
       "    <tr>\n",
       "      <th>0</th>\n",
       "      <td> 39</td>\n",
       "      <td>         State-gov</td>\n",
       "      <td>  77516</td>\n",
       "      <td>  Bachelors</td>\n",
       "      <td> 13</td>\n",
       "      <td>       Never-married</td>\n",
       "      <td>       Adm-clerical</td>\n",
       "      <td>  Not-in-family</td>\n",
       "      <td>  White</td>\n",
       "      <td>    Male</td>\n",
       "      <td> 2174</td>\n",
       "      <td> 0</td>\n",
       "      <td> 40</td>\n",
       "      <td>  United-States</td>\n",
       "      <td>  &lt;=50K</td>\n",
       "    </tr>\n",
       "    <tr>\n",
       "      <th>1</th>\n",
       "      <td> 50</td>\n",
       "      <td>  Self-emp-not-inc</td>\n",
       "      <td>  83311</td>\n",
       "      <td>  Bachelors</td>\n",
       "      <td> 13</td>\n",
       "      <td>  Married-civ-spouse</td>\n",
       "      <td>    Exec-managerial</td>\n",
       "      <td>        Husband</td>\n",
       "      <td>  White</td>\n",
       "      <td>    Male</td>\n",
       "      <td>    0</td>\n",
       "      <td> 0</td>\n",
       "      <td> 13</td>\n",
       "      <td>  United-States</td>\n",
       "      <td>  &lt;=50K</td>\n",
       "    </tr>\n",
       "    <tr>\n",
       "      <th>2</th>\n",
       "      <td> 38</td>\n",
       "      <td>           Private</td>\n",
       "      <td> 215646</td>\n",
       "      <td>    HS-grad</td>\n",
       "      <td>  9</td>\n",
       "      <td>            Divorced</td>\n",
       "      <td>  Handlers-cleaners</td>\n",
       "      <td>  Not-in-family</td>\n",
       "      <td>  White</td>\n",
       "      <td>    Male</td>\n",
       "      <td>    0</td>\n",
       "      <td> 0</td>\n",
       "      <td> 40</td>\n",
       "      <td>  United-States</td>\n",
       "      <td>  &lt;=50K</td>\n",
       "    </tr>\n",
       "    <tr>\n",
       "      <th>3</th>\n",
       "      <td> 53</td>\n",
       "      <td>           Private</td>\n",
       "      <td> 234721</td>\n",
       "      <td>       11th</td>\n",
       "      <td>  7</td>\n",
       "      <td>  Married-civ-spouse</td>\n",
       "      <td>  Handlers-cleaners</td>\n",
       "      <td>        Husband</td>\n",
       "      <td>  Black</td>\n",
       "      <td>    Male</td>\n",
       "      <td>    0</td>\n",
       "      <td> 0</td>\n",
       "      <td> 40</td>\n",
       "      <td>  United-States</td>\n",
       "      <td>  &lt;=50K</td>\n",
       "    </tr>\n",
       "    <tr>\n",
       "      <th>4</th>\n",
       "      <td> 28</td>\n",
       "      <td>           Private</td>\n",
       "      <td> 338409</td>\n",
       "      <td>  Bachelors</td>\n",
       "      <td> 13</td>\n",
       "      <td>  Married-civ-spouse</td>\n",
       "      <td>     Prof-specialty</td>\n",
       "      <td>           Wife</td>\n",
       "      <td>  Black</td>\n",
       "      <td>  Female</td>\n",
       "      <td>    0</td>\n",
       "      <td> 0</td>\n",
       "      <td> 40</td>\n",
       "      <td>           Cuba</td>\n",
       "      <td>  &lt;=50K</td>\n",
       "    </tr>\n",
       "  </tbody>\n",
       "</table>\n",
       "</div>"
      ],
      "text/plain": [
       "   age          workclass  fnlwgt   education  education_num  \\\n",
       "0   39          State-gov   77516   Bachelors             13   \n",
       "1   50   Self-emp-not-inc   83311   Bachelors             13   \n",
       "2   38            Private  215646     HS-grad              9   \n",
       "3   53            Private  234721        11th              7   \n",
       "4   28            Private  338409   Bachelors             13   \n",
       "\n",
       "        marital_status          occupation    relationship ethnicity   gender  \\\n",
       "0        Never-married        Adm-clerical   Not-in-family     White     Male   \n",
       "1   Married-civ-spouse     Exec-managerial         Husband     White     Male   \n",
       "2             Divorced   Handlers-cleaners   Not-in-family     White     Male   \n",
       "3   Married-civ-spouse   Handlers-cleaners         Husband     Black     Male   \n",
       "4   Married-civ-spouse      Prof-specialty            Wife     Black   Female   \n",
       "\n",
       "   capital_gain  capital_loss  hours_per_week country_of_origin  income  \n",
       "0          2174             0              40     United-States   <=50K  \n",
       "1             0             0              13     United-States   <=50K  \n",
       "2             0             0              40     United-States   <=50K  \n",
       "3             0             0              40     United-States   <=50K  \n",
       "4             0             0              40              Cuba   <=50K  "
      ]
     },
     "execution_count": 6,
     "metadata": {},
     "output_type": "execute_result"
    }
   ],
   "source": [
    "# to view the first 5 or specify with ex: .head(10)\n",
    "df.head()"
   ]
  },
  {
   "cell_type": "code",
   "execution_count": 6,
   "metadata": {
    "collapsed": false
   },
   "outputs": [
    {
     "data": {
      "text/plain": [
       "array([' Bachelors', ' HS-grad', ' 11th', ' Masters', ' 9th',\n",
       "       ' Some-college', ' Assoc-acdm', ' Assoc-voc', ' 7th-8th',\n",
       "       ' Doctorate', ' Prof-school', ' 5th-6th', ' 10th', ' 1st-4th',\n",
       "       ' Preschool', ' 12th'], dtype=object)"
      ]
     },
     "execution_count": 6,
     "metadata": {},
     "output_type": "execute_result"
    }
   ],
   "source": [
    "# there's a space before each string in this data\n",
    "df.education.unique()"
   ]
  },
  {
   "cell_type": "code",
   "execution_count": 7,
   "metadata": {
    "collapsed": false
   },
   "outputs": [
    {
     "data": {
      "text/plain": [
       "array([' State-gov', ' Self-emp-not-inc', ' Private', ' Federal-gov',\n",
       "       ' Local-gov', ' ?', ' Self-emp-inc', ' Without-pay', ' Never-worked'], dtype=object)"
      ]
     },
     "execution_count": 7,
     "metadata": {},
     "output_type": "execute_result"
    }
   ],
   "source": [
    "# looks like it's in every object column\n",
    "df.workclass.unique()"
   ]
  },
  {
   "cell_type": "markdown",
   "metadata": {},
   "source": [
    "## Strip spaces in columns"
   ]
  },
  {
   "cell_type": "code",
   "execution_count": 8,
   "metadata": {
    "collapsed": false
   },
   "outputs": [],
   "source": [
    "# loop through each column and strip all the spaces\n",
    "\n",
    "for col in df:\n",
    "    if df[col].dtype == 'O':\n",
    "        df[col] = df[col].map(lambda x: x.strip(' '))"
   ]
  },
  {
   "cell_type": "code",
   "execution_count": 9,
   "metadata": {
    "collapsed": true
   },
   "outputs": [],
   "source": [
    "# Here's a break down of what that for loop is doing"
   ]
  },
  {
   "cell_type": "code",
   "execution_count": 10,
   "metadata": {
    "collapsed": false
   },
   "outputs": [
    {
     "name": "stdout",
     "output_type": "stream",
     "text": [
      "age\n",
      "workclass\n",
      "fnlwgt\n",
      "education\n",
      "education_num\n",
      "marital_status\n",
      "occupation\n",
      "relationship\n",
      "ethnicity\n",
      "gender\n",
      "capital_gain\n",
      "capital_loss\n",
      "hours_per_week\n",
      "country_of_origin\n",
      "income\n"
     ]
    }
   ],
   "source": [
    "# loops through df and gets the column names\n",
    "for col in df:\n",
    "    print col"
   ]
  },
  {
   "cell_type": "code",
   "execution_count": 11,
   "metadata": {
    "collapsed": false
   },
   "outputs": [
    {
     "data": {
      "text/plain": [
       "dtype('O')"
      ]
     },
     "execution_count": 11,
     "metadata": {},
     "output_type": "execute_result"
    }
   ],
   "source": [
    "# gets the column type\n",
    "df.education.dtype"
   ]
  },
  {
   "cell_type": "code",
   "execution_count": 12,
   "metadata": {
    "collapsed": false
   },
   "outputs": [
    {
     "data": {
      "text/plain": [
       "True"
      ]
     },
     "execution_count": 12,
     "metadata": {},
     "output_type": "execute_result"
    }
   ],
   "source": [
    "# if True then applys the map function\n",
    "df.education.dtype == object"
   ]
  },
  {
   "cell_type": "code",
   "execution_count": 13,
   "metadata": {
    "collapsed": false
   },
   "outputs": [
    {
     "data": {
      "text/plain": [
       "'string'"
      ]
     },
     "execution_count": 13,
     "metadata": {},
     "output_type": "execute_result"
    }
   ],
   "source": [
    "# strip function\n",
    "x = ' string'\n",
    "x.strip(' ')"
   ]
  },
  {
   "cell_type": "code",
   "execution_count": 14,
   "metadata": {
    "collapsed": false
   },
   "outputs": [
    {
     "data": {
      "text/plain": [
       "'string'"
      ]
     },
     "execution_count": 14,
     "metadata": {},
     "output_type": "execute_result"
    }
   ],
   "source": [
    "# lambda creates a 'throw away' or 'anonymous' function\n",
    "strip_string = lambda x: x.strip(' ')\n",
    "strip_string(' string')"
   ]
  },
  {
   "cell_type": "code",
   "execution_count": 15,
   "metadata": {
    "collapsed": true
   },
   "outputs": [],
   "source": [
    "# same as this\n",
    "def strip_string2(x):\n",
    "    x = x.strip(' ')\n",
    "    return x"
   ]
  },
  {
   "cell_type": "code",
   "execution_count": 16,
   "metadata": {
    "collapsed": false
   },
   "outputs": [
    {
     "data": {
      "text/plain": [
       "'string'"
      ]
     },
     "execution_count": 16,
     "metadata": {},
     "output_type": "execute_result"
    }
   ],
   "source": [
    "strip_string2(' string')"
   ]
  },
  {
   "cell_type": "code",
   "execution_count": 17,
   "metadata": {
    "collapsed": false
   },
   "outputs": [
    {
     "data": {
      "text/plain": [
       "0           State-gov\n",
       "1    Self-emp-not-inc\n",
       "2             Private\n",
       "3             Private\n",
       "4             Private\n",
       "5             Private\n",
       "6             Private\n",
       "7    Self-emp-not-inc\n",
       "...\n",
       "32553         Private\n",
       "32554         Private\n",
       "32555         Private\n",
       "32556         Private\n",
       "32557         Private\n",
       "32558         Private\n",
       "32559         Private\n",
       "32560    Self-emp-inc\n",
       "Name: workclass, Length: 32561, dtype: object"
      ]
     },
     "execution_count": 17,
     "metadata": {},
     "output_type": "execute_result"
    }
   ],
   "source": [
    "# map applies the function to each item in the data frame column so\n",
    "\n",
    "df[col].map(lambda x: x.strip(' '))\n",
    "\n",
    "# does the same thing as\n",
    "\n",
    "df['workclass'].map(strip_string2)\n",
    "\n",
    "# but in the first case we don't have to define and name a function"
   ]
  },
  {
   "cell_type": "markdown",
   "metadata": {},
   "source": [
    "for more info on lambda and map\n",
    "\n",
    "http://www.python-course.eu/lambda.php"
   ]
  },
  {
   "cell_type": "markdown",
   "metadata": {},
   "source": [
    "## Descriptive "
   ]
  },
  {
   "cell_type": "code",
   "execution_count": 18,
   "metadata": {
    "collapsed": false
   },
   "outputs": [
    {
     "data": {
      "text/plain": [
       "HS-grad         10501\n",
       "Some-college     7291\n",
       "Bachelors        5355\n",
       "Masters          1723\n",
       "Assoc-voc        1382\n",
       "11th             1175\n",
       "Assoc-acdm       1067\n",
       "10th              933\n",
       "7th-8th           646\n",
       "Prof-school       576\n",
       "9th               514\n",
       "12th              433\n",
       "Doctorate         413\n",
       "5th-6th           333\n",
       "1st-4th           168\n",
       "Preschool          51\n",
       "dtype: int64"
      ]
     },
     "execution_count": 18,
     "metadata": {},
     "output_type": "execute_result"
    }
   ],
   "source": [
    "df.education.value_counts()"
   ]
  },
  {
   "cell_type": "code",
   "execution_count": 19,
   "metadata": {
    "collapsed": false
   },
   "outputs": [
    {
     "data": {
      "text/plain": [
       "40.437455852092995"
      ]
     },
     "execution_count": 19,
     "metadata": {},
     "output_type": "execute_result"
    }
   ],
   "source": [
    "df.hours_per_week.mean()"
   ]
  },
  {
   "cell_type": "code",
   "execution_count": 20,
   "metadata": {
    "collapsed": false,
    "scrolled": true
   },
   "outputs": [
    {
     "data": {
      "text/html": [
       "<div style=\"max-height:1000px;max-width:1500px;overflow:auto;\">\n",
       "<table border=\"1\" class=\"dataframe\">\n",
       "  <thead>\n",
       "    <tr style=\"text-align: right;\">\n",
       "      <th></th>\n",
       "      <th>age</th>\n",
       "      <th>capital_gain</th>\n",
       "      <th>capital_loss</th>\n",
       "      <th>hours_per_week</th>\n",
       "    </tr>\n",
       "  </thead>\n",
       "  <tbody>\n",
       "    <tr>\n",
       "      <th>count</th>\n",
       "      <td> 32561.00</td>\n",
       "      <td> 32561.00</td>\n",
       "      <td> 32561.00</td>\n",
       "      <td> 32561.00</td>\n",
       "    </tr>\n",
       "    <tr>\n",
       "      <th>mean</th>\n",
       "      <td>    38.58</td>\n",
       "      <td>  1077.65</td>\n",
       "      <td>    87.30</td>\n",
       "      <td>    40.44</td>\n",
       "    </tr>\n",
       "    <tr>\n",
       "      <th>std</th>\n",
       "      <td>    13.64</td>\n",
       "      <td>  7385.29</td>\n",
       "      <td>   402.96</td>\n",
       "      <td>    12.35</td>\n",
       "    </tr>\n",
       "    <tr>\n",
       "      <th>min</th>\n",
       "      <td>    17.00</td>\n",
       "      <td>     0.00</td>\n",
       "      <td>     0.00</td>\n",
       "      <td>     1.00</td>\n",
       "    </tr>\n",
       "    <tr>\n",
       "      <th>25%</th>\n",
       "      <td>    28.00</td>\n",
       "      <td>     0.00</td>\n",
       "      <td>     0.00</td>\n",
       "      <td>    40.00</td>\n",
       "    </tr>\n",
       "    <tr>\n",
       "      <th>50%</th>\n",
       "      <td>    37.00</td>\n",
       "      <td>     0.00</td>\n",
       "      <td>     0.00</td>\n",
       "      <td>    40.00</td>\n",
       "    </tr>\n",
       "    <tr>\n",
       "      <th>75%</th>\n",
       "      <td>    48.00</td>\n",
       "      <td>     0.00</td>\n",
       "      <td>     0.00</td>\n",
       "      <td>    45.00</td>\n",
       "    </tr>\n",
       "    <tr>\n",
       "      <th>max</th>\n",
       "      <td>    90.00</td>\n",
       "      <td> 99999.00</td>\n",
       "      <td>  4356.00</td>\n",
       "      <td>    99.00</td>\n",
       "    </tr>\n",
       "  </tbody>\n",
       "</table>\n",
       "</div>"
      ],
      "text/plain": [
       "            age  capital_gain  capital_loss  hours_per_week\n",
       "count  32561.00      32561.00      32561.00        32561.00\n",
       "mean      38.58       1077.65         87.30           40.44\n",
       "std       13.64       7385.29        402.96           12.35\n",
       "min       17.00          0.00          0.00            1.00\n",
       "25%       28.00          0.00          0.00           40.00\n",
       "50%       37.00          0.00          0.00           40.00\n",
       "75%       48.00          0.00          0.00           45.00\n",
       "max       90.00      99999.00       4356.00           99.00"
      ]
     },
     "execution_count": 20,
     "metadata": {},
     "output_type": "execute_result"
    }
   ],
   "source": [
    "df[['age', 'capital_gain', 'capital_loss', 'hours_per_week']].describe()"
   ]
  },
  {
   "cell_type": "markdown",
   "metadata": {},
   "source": [
    "## Find nulls"
   ]
  },
  {
   "cell_type": "code",
   "execution_count": 21,
   "metadata": {
    "collapsed": false
   },
   "outputs": [
    {
     "data": {
      "text/html": [
       "<div style=\"max-height:1000px;max-width:1500px;overflow:auto;\">\n",
       "<table border=\"1\" class=\"dataframe\">\n",
       "  <thead>\n",
       "    <tr style=\"text-align: right;\">\n",
       "      <th></th>\n",
       "      <th>age</th>\n",
       "      <th>workclass</th>\n",
       "      <th>fnlwgt</th>\n",
       "      <th>education</th>\n",
       "      <th>education_num</th>\n",
       "      <th>marital_status</th>\n",
       "      <th>occupation</th>\n",
       "      <th>relationship</th>\n",
       "      <th>ethnicity</th>\n",
       "      <th>gender</th>\n",
       "      <th>capital_gain</th>\n",
       "      <th>capital_loss</th>\n",
       "      <th>hours_per_week</th>\n",
       "      <th>country_of_origin</th>\n",
       "      <th>income</th>\n",
       "    </tr>\n",
       "  </thead>\n",
       "  <tbody>\n",
       "  </tbody>\n",
       "</table>\n",
       "</div>"
      ],
      "text/plain": [
       "Empty DataFrame\n",
       "Columns: [age, workclass, fnlwgt, education, education_num, marital_status, occupation, relationship, ethnicity, gender, capital_gain, capital_loss, hours_per_week, country_of_origin, income]\n",
       "Index: []"
      ]
     },
     "execution_count": 21,
     "metadata": {},
     "output_type": "execute_result"
    }
   ],
   "source": [
    "# as we saw with df.info() there are no nulls... \n",
    "# but if there were this would find the rows where age is null\n",
    "df[df.age.isnull()]"
   ]
  },
  {
   "cell_type": "code",
   "execution_count": 22,
   "metadata": {
    "collapsed": false
   },
   "outputs": [],
   "source": [
    "# you could drop all those rows with\n",
    "df_no_nulls = df[df.age.notnull()]"
   ]
  },
  {
   "cell_type": "markdown",
   "metadata": {},
   "source": [
    "## Fill nulls"
   ]
  },
  {
   "cell_type": "code",
   "execution_count": 23,
   "metadata": {
    "collapsed": false
   },
   "outputs": [],
   "source": [
    "null_df = pd.DataFrame([1,2,4,np.nan], columns = ['column1'])"
   ]
  },
  {
   "cell_type": "code",
   "execution_count": 24,
   "metadata": {
    "collapsed": false
   },
   "outputs": [
    {
     "data": {
      "text/html": [
       "<div style=\"max-height:1000px;max-width:1500px;overflow:auto;\">\n",
       "<table border=\"1\" class=\"dataframe\">\n",
       "  <thead>\n",
       "    <tr style=\"text-align: right;\">\n",
       "      <th></th>\n",
       "      <th>column1</th>\n",
       "    </tr>\n",
       "  </thead>\n",
       "  <tbody>\n",
       "    <tr>\n",
       "      <th>0</th>\n",
       "      <td>  1</td>\n",
       "    </tr>\n",
       "    <tr>\n",
       "      <th>1</th>\n",
       "      <td>  2</td>\n",
       "    </tr>\n",
       "    <tr>\n",
       "      <th>2</th>\n",
       "      <td>  4</td>\n",
       "    </tr>\n",
       "    <tr>\n",
       "      <th>3</th>\n",
       "      <td>NaN</td>\n",
       "    </tr>\n",
       "  </tbody>\n",
       "</table>\n",
       "</div>"
      ],
      "text/plain": [
       "   column1\n",
       "0        1\n",
       "1        2\n",
       "2        4\n",
       "3      NaN"
      ]
     },
     "execution_count": 24,
     "metadata": {},
     "output_type": "execute_result"
    }
   ],
   "source": [
    "null_df"
   ]
  },
  {
   "cell_type": "code",
   "execution_count": 25,
   "metadata": {
    "collapsed": false
   },
   "outputs": [
    {
     "data": {
      "text/plain": [
       "0       1\n",
       "1       2\n",
       "2       4\n",
       "3    1000\n",
       "Name: column1, dtype: float64"
      ]
     },
     "execution_count": 25,
     "metadata": {},
     "output_type": "execute_result"
    }
   ],
   "source": [
    "# you can also fill nulls with a value or string\n",
    "null_df.column1.fillna(1000)"
   ]
  },
  {
   "cell_type": "code",
   "execution_count": 26,
   "metadata": {
    "collapsed": false
   },
   "outputs": [
    {
     "data": {
      "text/plain": [
       "0    1\n",
       "1    2\n",
       "2    4\n",
       "3    2\n",
       "Name: column1, dtype: float64"
      ]
     },
     "execution_count": 26,
     "metadata": {},
     "output_type": "execute_result"
    }
   ],
   "source": [
    "null_df.column1.fillna(null_df.column1.median())"
   ]
  },
  {
   "cell_type": "code",
   "execution_count": 27,
   "metadata": {
    "collapsed": false
   },
   "outputs": [
    {
     "data": {
      "text/plain": [
       "0         1\n",
       "1         2\n",
       "2         4\n",
       "3    string\n",
       "Name: column1, dtype: object"
      ]
     },
     "execution_count": 27,
     "metadata": {},
     "output_type": "execute_result"
    }
   ],
   "source": [
    "null_df.column1.fillna('string')"
   ]
  },
  {
   "cell_type": "markdown",
   "metadata": {},
   "source": [
    "## Selecting rows and columns "
   ]
  },
  {
   "cell_type": "code",
   "execution_count": 28,
   "metadata": {
    "collapsed": false
   },
   "outputs": [
    {
     "data": {
      "text/plain": [
       "age                             39\n",
       "workclass                State-gov\n",
       "fnlwgt                       77516\n",
       "education                Bachelors\n",
       "education_num                   13\n",
       "marital_status       Never-married\n",
       "occupation            Adm-clerical\n",
       "relationship         Not-in-family\n",
       "ethnicity                    White\n",
       "gender                        Male\n",
       "capital_gain                  2174\n",
       "capital_loss                     0\n",
       "hours_per_week                  40\n",
       "country_of_origin    United-States\n",
       "income                       <=50K\n",
       "Name: 0, dtype: object"
      ]
     },
     "execution_count": 28,
     "metadata": {},
     "output_type": "execute_result"
    }
   ],
   "source": [
    "# select a row\n",
    "df.iloc[0]"
   ]
  },
  {
   "cell_type": "code",
   "execution_count": 29,
   "metadata": {
    "collapsed": false
   },
   "outputs": [
    {
     "data": {
      "text/html": [
       "<div style=\"max-height:1000px;max-width:1500px;overflow:auto;\">\n",
       "<table border=\"1\" class=\"dataframe\">\n",
       "  <thead>\n",
       "    <tr style=\"text-align: right;\">\n",
       "      <th></th>\n",
       "      <th>age</th>\n",
       "      <th>workclass</th>\n",
       "      <th>fnlwgt</th>\n",
       "      <th>education</th>\n",
       "      <th>education_num</th>\n",
       "      <th>marital_status</th>\n",
       "      <th>occupation</th>\n",
       "      <th>relationship</th>\n",
       "      <th>ethnicity</th>\n",
       "      <th>gender</th>\n",
       "      <th>capital_gain</th>\n",
       "      <th>capital_loss</th>\n",
       "      <th>hours_per_week</th>\n",
       "      <th>country_of_origin</th>\n",
       "      <th>income</th>\n",
       "    </tr>\n",
       "  </thead>\n",
       "  <tbody>\n",
       "    <tr>\n",
       "      <th>10</th>\n",
       "      <td> 37</td>\n",
       "      <td>   Private</td>\n",
       "      <td> 280464</td>\n",
       "      <td> Some-college</td>\n",
       "      <td> 10</td>\n",
       "      <td> Married-civ-spouse</td>\n",
       "      <td> Exec-managerial</td>\n",
       "      <td>       Husband</td>\n",
       "      <td>              Black</td>\n",
       "      <td>   Male</td>\n",
       "      <td> 0</td>\n",
       "      <td> 0</td>\n",
       "      <td> 80</td>\n",
       "      <td> United-States</td>\n",
       "      <td>  &gt;50K</td>\n",
       "    </tr>\n",
       "    <tr>\n",
       "      <th>11</th>\n",
       "      <td> 30</td>\n",
       "      <td> State-gov</td>\n",
       "      <td> 141297</td>\n",
       "      <td>    Bachelors</td>\n",
       "      <td> 13</td>\n",
       "      <td> Married-civ-spouse</td>\n",
       "      <td>  Prof-specialty</td>\n",
       "      <td>       Husband</td>\n",
       "      <td> Asian-Pac-Islander</td>\n",
       "      <td>   Male</td>\n",
       "      <td> 0</td>\n",
       "      <td> 0</td>\n",
       "      <td> 40</td>\n",
       "      <td>         India</td>\n",
       "      <td>  &gt;50K</td>\n",
       "    </tr>\n",
       "    <tr>\n",
       "      <th>12</th>\n",
       "      <td> 23</td>\n",
       "      <td>   Private</td>\n",
       "      <td> 122272</td>\n",
       "      <td>    Bachelors</td>\n",
       "      <td> 13</td>\n",
       "      <td>      Never-married</td>\n",
       "      <td>    Adm-clerical</td>\n",
       "      <td>     Own-child</td>\n",
       "      <td>              White</td>\n",
       "      <td> Female</td>\n",
       "      <td> 0</td>\n",
       "      <td> 0</td>\n",
       "      <td> 30</td>\n",
       "      <td> United-States</td>\n",
       "      <td> &lt;=50K</td>\n",
       "    </tr>\n",
       "    <tr>\n",
       "      <th>13</th>\n",
       "      <td> 32</td>\n",
       "      <td>   Private</td>\n",
       "      <td> 205019</td>\n",
       "      <td>   Assoc-acdm</td>\n",
       "      <td> 12</td>\n",
       "      <td>      Never-married</td>\n",
       "      <td>           Sales</td>\n",
       "      <td> Not-in-family</td>\n",
       "      <td>              Black</td>\n",
       "      <td>   Male</td>\n",
       "      <td> 0</td>\n",
       "      <td> 0</td>\n",
       "      <td> 50</td>\n",
       "      <td> United-States</td>\n",
       "      <td> &lt;=50K</td>\n",
       "    </tr>\n",
       "    <tr>\n",
       "      <th>14</th>\n",
       "      <td> 40</td>\n",
       "      <td>   Private</td>\n",
       "      <td> 121772</td>\n",
       "      <td>    Assoc-voc</td>\n",
       "      <td> 11</td>\n",
       "      <td> Married-civ-spouse</td>\n",
       "      <td>    Craft-repair</td>\n",
       "      <td>       Husband</td>\n",
       "      <td> Asian-Pac-Islander</td>\n",
       "      <td>   Male</td>\n",
       "      <td> 0</td>\n",
       "      <td> 0</td>\n",
       "      <td> 40</td>\n",
       "      <td>             ?</td>\n",
       "      <td>  &gt;50K</td>\n",
       "    </tr>\n",
       "  </tbody>\n",
       "</table>\n",
       "</div>"
      ],
      "text/plain": [
       "    age  workclass  fnlwgt     education  education_num      marital_status  \\\n",
       "10   37    Private  280464  Some-college             10  Married-civ-spouse   \n",
       "11   30  State-gov  141297     Bachelors             13  Married-civ-spouse   \n",
       "12   23    Private  122272     Bachelors             13       Never-married   \n",
       "13   32    Private  205019    Assoc-acdm             12       Never-married   \n",
       "14   40    Private  121772     Assoc-voc             11  Married-civ-spouse   \n",
       "\n",
       "         occupation   relationship           ethnicity  gender  capital_gain  \\\n",
       "10  Exec-managerial        Husband               Black    Male             0   \n",
       "11   Prof-specialty        Husband  Asian-Pac-Islander    Male             0   \n",
       "12     Adm-clerical      Own-child               White  Female             0   \n",
       "13            Sales  Not-in-family               Black    Male             0   \n",
       "14     Craft-repair        Husband  Asian-Pac-Islander    Male             0   \n",
       "\n",
       "    capital_loss  hours_per_week country_of_origin income  \n",
       "10             0              80     United-States   >50K  \n",
       "11             0              40             India   >50K  \n",
       "12             0              30     United-States  <=50K  \n",
       "13             0              50     United-States  <=50K  \n",
       "14             0              40                 ?   >50K  "
      ]
     },
     "execution_count": 29,
     "metadata": {},
     "output_type": "execute_result"
    }
   ],
   "source": [
    "# select a range of rows\n",
    "df.iloc[10:15]"
   ]
  },
  {
   "cell_type": "code",
   "execution_count": 30,
   "metadata": {
    "collapsed": false
   },
   "outputs": [
    {
     "data": {
      "text/html": [
       "<div style=\"max-height:1000px;max-width:1500px;overflow:auto;\">\n",
       "<table border=\"1\" class=\"dataframe\">\n",
       "  <thead>\n",
       "    <tr style=\"text-align: right;\">\n",
       "      <th></th>\n",
       "      <th>age</th>\n",
       "      <th>workclass</th>\n",
       "      <th>fnlwgt</th>\n",
       "      <th>education</th>\n",
       "      <th>education_num</th>\n",
       "      <th>marital_status</th>\n",
       "      <th>occupation</th>\n",
       "      <th>relationship</th>\n",
       "      <th>ethnicity</th>\n",
       "      <th>gender</th>\n",
       "      <th>capital_gain</th>\n",
       "      <th>capital_loss</th>\n",
       "      <th>hours_per_week</th>\n",
       "      <th>country_of_origin</th>\n",
       "      <th>income</th>\n",
       "    </tr>\n",
       "  </thead>\n",
       "  <tbody>\n",
       "    <tr>\n",
       "      <th>32559</th>\n",
       "      <td> 22</td>\n",
       "      <td>      Private</td>\n",
       "      <td> 201490</td>\n",
       "      <td> HS-grad</td>\n",
       "      <td> 9</td>\n",
       "      <td>      Never-married</td>\n",
       "      <td>    Adm-clerical</td>\n",
       "      <td> Own-child</td>\n",
       "      <td> White</td>\n",
       "      <td>   Male</td>\n",
       "      <td>     0</td>\n",
       "      <td> 0</td>\n",
       "      <td> 20</td>\n",
       "      <td> United-States</td>\n",
       "      <td> &lt;=50K</td>\n",
       "    </tr>\n",
       "    <tr>\n",
       "      <th>32560</th>\n",
       "      <td> 52</td>\n",
       "      <td> Self-emp-inc</td>\n",
       "      <td> 287927</td>\n",
       "      <td> HS-grad</td>\n",
       "      <td> 9</td>\n",
       "      <td> Married-civ-spouse</td>\n",
       "      <td> Exec-managerial</td>\n",
       "      <td>      Wife</td>\n",
       "      <td> White</td>\n",
       "      <td> Female</td>\n",
       "      <td> 15024</td>\n",
       "      <td> 0</td>\n",
       "      <td> 40</td>\n",
       "      <td> United-States</td>\n",
       "      <td>  &gt;50K</td>\n",
       "    </tr>\n",
       "  </tbody>\n",
       "</table>\n",
       "</div>"
      ],
      "text/plain": [
       "       age     workclass  fnlwgt education  education_num      marital_status  \\\n",
       "32559   22       Private  201490   HS-grad              9       Never-married   \n",
       "32560   52  Self-emp-inc  287927   HS-grad              9  Married-civ-spouse   \n",
       "\n",
       "            occupation relationship ethnicity  gender  capital_gain  \\\n",
       "32559     Adm-clerical    Own-child     White    Male             0   \n",
       "32560  Exec-managerial         Wife     White  Female         15024   \n",
       "\n",
       "       capital_loss  hours_per_week country_of_origin income  \n",
       "32559             0              20     United-States  <=50K  \n",
       "32560             0              40     United-States   >50K  "
      ]
     },
     "execution_count": 30,
     "metadata": {},
     "output_type": "execute_result"
    }
   ],
   "source": [
    "# last 2 rows\n",
    "df.iloc[-2:]"
   ]
  },
  {
   "cell_type": "code",
   "execution_count": 31,
   "metadata": {
    "collapsed": false
   },
   "outputs": [
    {
     "data": {
      "text/html": [
       "<div style=\"max-height:1000px;max-width:1500px;overflow:auto;\">\n",
       "<table border=\"1\" class=\"dataframe\">\n",
       "  <thead>\n",
       "    <tr style=\"text-align: right;\">\n",
       "      <th></th>\n",
       "      <th>fnlwgt</th>\n",
       "      <th>education</th>\n",
       "      <th>education_num</th>\n",
       "    </tr>\n",
       "  </thead>\n",
       "  <tbody>\n",
       "    <tr>\n",
       "      <th>0</th>\n",
       "      <td>  77516</td>\n",
       "      <td> Bachelors</td>\n",
       "      <td> 13</td>\n",
       "    </tr>\n",
       "    <tr>\n",
       "      <th>2</th>\n",
       "      <td> 215646</td>\n",
       "      <td>   HS-grad</td>\n",
       "      <td>  9</td>\n",
       "    </tr>\n",
       "    <tr>\n",
       "      <th>4</th>\n",
       "      <td> 338409</td>\n",
       "      <td> Bachelors</td>\n",
       "      <td> 13</td>\n",
       "    </tr>\n",
       "    <tr>\n",
       "      <th>6</th>\n",
       "      <td> 160187</td>\n",
       "      <td>       9th</td>\n",
       "      <td>  5</td>\n",
       "    </tr>\n",
       "    <tr>\n",
       "      <th>8</th>\n",
       "      <td>  45781</td>\n",
       "      <td>   Masters</td>\n",
       "      <td> 14</td>\n",
       "    </tr>\n",
       "  </tbody>\n",
       "</table>\n",
       "</div>"
      ],
      "text/plain": [
       "   fnlwgt  education  education_num\n",
       "0   77516  Bachelors             13\n",
       "2  215646    HS-grad              9\n",
       "4  338409  Bachelors             13\n",
       "6  160187        9th              5\n",
       "8   45781    Masters             14"
      ]
     },
     "execution_count": 31,
     "metadata": {},
     "output_type": "execute_result"
    }
   ],
   "source": [
    "# selecting every other row in columns 3-5\n",
    "df.iloc[::2, 2:5].head()"
   ]
  },
  {
   "cell_type": "code",
   "execution_count": 32,
   "metadata": {
    "collapsed": false
   },
   "outputs": [
    {
     "data": {
      "text/html": [
       "<div style=\"max-height:1000px;max-width:1500px;overflow:auto;\">\n",
       "<table border=\"1\" class=\"dataframe\">\n",
       "  <thead>\n",
       "    <tr style=\"text-align: right;\">\n",
       "      <th></th>\n",
       "      <th>age</th>\n",
       "      <th>relationship </th>\n",
       "    </tr>\n",
       "  </thead>\n",
       "  <tbody>\n",
       "    <tr>\n",
       "      <th>0</th>\n",
       "      <td> 39</td>\n",
       "      <td>NaN</td>\n",
       "    </tr>\n",
       "    <tr>\n",
       "      <th>1</th>\n",
       "      <td> 50</td>\n",
       "      <td>NaN</td>\n",
       "    </tr>\n",
       "    <tr>\n",
       "      <th>2</th>\n",
       "      <td> 38</td>\n",
       "      <td>NaN</td>\n",
       "    </tr>\n",
       "  </tbody>\n",
       "</table>\n",
       "</div>"
      ],
      "text/plain": [
       "   age  relationship \n",
       "0   39            NaN\n",
       "1   50            NaN\n",
       "2   38            NaN"
      ]
     },
     "execution_count": 32,
     "metadata": {},
     "output_type": "execute_result"
    }
   ],
   "source": [
    "df.loc[0:2, ['age', 'relationship ']]"
   ]
  },
  {
   "cell_type": "markdown",
   "metadata": {},
   "source": [
    "## Differences between .loc, .iloc, and .ix"
   ]
  },
  {
   "cell_type": "markdown",
   "metadata": {},
   "source": [
    "http://pandas.pydata.org/pandas-docs/stable/indexing.html"
   ]
  },
  {
   "cell_type": "markdown",
   "metadata": {},
   "source": [
    "by label\n",
    "\n",
    ".loc[]\n",
    "\n",
    "by integer position\n",
    "\n",
    ".iloc[]\n",
    "\n",
    "for both\n",
    "\n",
    ".ix[]"
   ]
  },
  {
   "cell_type": "code",
   "execution_count": 33,
   "metadata": {
    "collapsed": true
   },
   "outputs": [],
   "source": [
    "# pd.DataFrame let's you turn series, arrays, lists, and more into data frame structures\n",
    "\n",
    "df_index = pd.DataFrame([[1,2,3,4],[2,4,6,8],[3,5,7,9]], [11,13,12], columns = ['A', 0, 1, 'B'])"
   ]
  },
  {
   "cell_type": "code",
   "execution_count": 34,
   "metadata": {
    "collapsed": false
   },
   "outputs": [
    {
     "data": {
      "text/html": [
       "<div style=\"max-height:1000px;max-width:1500px;overflow:auto;\">\n",
       "<table border=\"1\" class=\"dataframe\">\n",
       "  <thead>\n",
       "    <tr style=\"text-align: right;\">\n",
       "      <th></th>\n",
       "      <th>A</th>\n",
       "      <th>0</th>\n",
       "      <th>1</th>\n",
       "      <th>B</th>\n",
       "    </tr>\n",
       "  </thead>\n",
       "  <tbody>\n",
       "    <tr>\n",
       "      <th>11</th>\n",
       "      <td> 1</td>\n",
       "      <td> 2</td>\n",
       "      <td> 3</td>\n",
       "      <td> 4</td>\n",
       "    </tr>\n",
       "    <tr>\n",
       "      <th>13</th>\n",
       "      <td> 2</td>\n",
       "      <td> 4</td>\n",
       "      <td> 6</td>\n",
       "      <td> 8</td>\n",
       "    </tr>\n",
       "    <tr>\n",
       "      <th>12</th>\n",
       "      <td> 3</td>\n",
       "      <td> 5</td>\n",
       "      <td> 7</td>\n",
       "      <td> 9</td>\n",
       "    </tr>\n",
       "  </tbody>\n",
       "</table>\n",
       "</div>"
      ],
      "text/plain": [
       "    A  0  1  B\n",
       "11  1  2  3  4\n",
       "13  2  4  6  8\n",
       "12  3  5  7  9"
      ]
     },
     "execution_count": 34,
     "metadata": {},
     "output_type": "execute_result"
    }
   ],
   "source": [
    "df_index"
   ]
  },
  {
   "cell_type": "code",
   "execution_count": 35,
   "metadata": {
    "collapsed": false
   },
   "outputs": [
    {
     "data": {
      "text/html": [
       "<div style=\"max-height:1000px;max-width:1500px;overflow:auto;\">\n",
       "<table border=\"1\" class=\"dataframe\">\n",
       "  <thead>\n",
       "    <tr style=\"text-align: right;\">\n",
       "      <th></th>\n",
       "      <th>A</th>\n",
       "      <th>0</th>\n",
       "      <th>1</th>\n",
       "      <th>B</th>\n",
       "    </tr>\n",
       "  </thead>\n",
       "  <tbody>\n",
       "    <tr>\n",
       "      <th>11</th>\n",
       "      <td> 1</td>\n",
       "      <td> 2</td>\n",
       "      <td> 3</td>\n",
       "      <td> 4</td>\n",
       "    </tr>\n",
       "  </tbody>\n",
       "</table>\n",
       "</div>"
      ],
      "text/plain": [
       "    A  0  1  B\n",
       "11  1  2  3  4"
      ]
     },
     "execution_count": 35,
     "metadata": {},
     "output_type": "execute_result"
    }
   ],
   "source": [
    "# iloc indexes by postion, not by the labels in the index\n",
    "df_index.iloc[0:1]"
   ]
  },
  {
   "cell_type": "code",
   "execution_count": 36,
   "metadata": {
    "collapsed": false
   },
   "outputs": [
    {
     "data": {
      "text/html": [
       "<div style=\"max-height:1000px;max-width:1500px;overflow:auto;\">\n",
       "<table border=\"1\" class=\"dataframe\">\n",
       "  <thead>\n",
       "    <tr style=\"text-align: right;\">\n",
       "      <th></th>\n",
       "      <th>A</th>\n",
       "      <th>0</th>\n",
       "      <th>1</th>\n",
       "      <th>B</th>\n",
       "    </tr>\n",
       "  </thead>\n",
       "  <tbody>\n",
       "    <tr>\n",
       "      <th>11</th>\n",
       "      <td> 1</td>\n",
       "      <td> 2</td>\n",
       "      <td> 3</td>\n",
       "      <td> 4</td>\n",
       "    </tr>\n",
       "    <tr>\n",
       "      <th>13</th>\n",
       "      <td> 2</td>\n",
       "      <td> 4</td>\n",
       "      <td> 6</td>\n",
       "      <td> 8</td>\n",
       "    </tr>\n",
       "    <tr>\n",
       "      <th>12</th>\n",
       "      <td> 3</td>\n",
       "      <td> 5</td>\n",
       "      <td> 7</td>\n",
       "      <td> 9</td>\n",
       "    </tr>\n",
       "  </tbody>\n",
       "</table>\n",
       "</div>"
      ],
      "text/plain": [
       "    A  0  1  B\n",
       "11  1  2  3  4\n",
       "13  2  4  6  8\n",
       "12  3  5  7  9"
      ]
     },
     "execution_count": 36,
     "metadata": {},
     "output_type": "execute_result"
    }
   ],
   "source": [
    "# with loc both the start and the stop are included\n",
    "df_index.loc[11:12]"
   ]
  },
  {
   "cell_type": "code",
   "execution_count": 37,
   "metadata": {
    "collapsed": false
   },
   "outputs": [
    {
     "data": {
      "text/html": [
       "<div style=\"max-height:1000px;max-width:1500px;overflow:auto;\">\n",
       "<table border=\"1\" class=\"dataframe\">\n",
       "  <thead>\n",
       "    <tr style=\"text-align: right;\">\n",
       "      <th></th>\n",
       "      <th>A</th>\n",
       "    </tr>\n",
       "  </thead>\n",
       "  <tbody>\n",
       "    <tr>\n",
       "      <th>11</th>\n",
       "      <td> 1</td>\n",
       "    </tr>\n",
       "    <tr>\n",
       "      <th>13</th>\n",
       "      <td> 2</td>\n",
       "    </tr>\n",
       "    <tr>\n",
       "      <th>12</th>\n",
       "      <td> 3</td>\n",
       "    </tr>\n",
       "  </tbody>\n",
       "</table>\n",
       "</div>"
      ],
      "text/plain": [
       "    A\n",
       "11  1\n",
       "13  2\n",
       "12  3"
      ]
     },
     "execution_count": 37,
     "metadata": {},
     "output_type": "execute_result"
    }
   ],
   "source": [
    "# select columns by position\n",
    "df_index.iloc[:,0:1]"
   ]
  },
  {
   "cell_type": "code",
   "execution_count": 38,
   "metadata": {
    "collapsed": false
   },
   "outputs": [
    {
     "data": {
      "text/html": [
       "<div style=\"max-height:1000px;max-width:1500px;overflow:auto;\">\n",
       "<table border=\"1\" class=\"dataframe\">\n",
       "  <thead>\n",
       "    <tr style=\"text-align: right;\">\n",
       "      <th></th>\n",
       "      <th>0</th>\n",
       "      <th>1</th>\n",
       "    </tr>\n",
       "  </thead>\n",
       "  <tbody>\n",
       "    <tr>\n",
       "      <th>11</th>\n",
       "      <td> 2</td>\n",
       "      <td> 3</td>\n",
       "    </tr>\n",
       "    <tr>\n",
       "      <th>13</th>\n",
       "      <td> 4</td>\n",
       "      <td> 6</td>\n",
       "    </tr>\n",
       "    <tr>\n",
       "      <th>12</th>\n",
       "      <td> 5</td>\n",
       "      <td> 7</td>\n",
       "    </tr>\n",
       "  </tbody>\n",
       "</table>\n",
       "</div>"
      ],
      "text/plain": [
       "    0  1\n",
       "11  2  3\n",
       "13  4  6\n",
       "12  5  7"
      ]
     },
     "execution_count": 38,
     "metadata": {},
     "output_type": "execute_result"
    }
   ],
   "source": [
    "# or by label\n",
    "df_index.loc[:,0:1]"
   ]
  },
  {
   "cell_type": "code",
   "execution_count": 39,
   "metadata": {
    "collapsed": false
   },
   "outputs": [
    {
     "data": {
      "text/html": [
       "<div style=\"max-height:1000px;max-width:1500px;overflow:auto;\">\n",
       "<table border=\"1\" class=\"dataframe\">\n",
       "  <thead>\n",
       "    <tr style=\"text-align: right;\">\n",
       "      <th></th>\n",
       "      <th>0</th>\n",
       "      <th>1</th>\n",
       "    </tr>\n",
       "  </thead>\n",
       "  <tbody>\n",
       "    <tr>\n",
       "      <th>11</th>\n",
       "      <td> 2</td>\n",
       "      <td> 3</td>\n",
       "    </tr>\n",
       "    <tr>\n",
       "      <th>13</th>\n",
       "      <td> 4</td>\n",
       "      <td> 6</td>\n",
       "    </tr>\n",
       "    <tr>\n",
       "      <th>12</th>\n",
       "      <td> 5</td>\n",
       "      <td> 7</td>\n",
       "    </tr>\n",
       "  </tbody>\n",
       "</table>\n",
       "</div>"
      ],
      "text/plain": [
       "    0  1\n",
       "11  2  3\n",
       "13  4  6\n",
       "12  5  7"
      ]
     },
     "execution_count": 39,
     "metadata": {},
     "output_type": "execute_result"
    }
   ],
   "source": [
    "# ix: primarily label based, but will fall back to integer positional access\n",
    "df_index.ix[:,0:1]"
   ]
  },
  {
   "cell_type": "markdown",
   "metadata": {},
   "source": [
    "## Rename columns"
   ]
  },
  {
   "cell_type": "code",
   "execution_count": 40,
   "metadata": {
    "collapsed": false
   },
   "outputs": [
    {
     "data": {
      "text/plain": [
       "Index([u'age', u'workclass', u'fnlwgt', u'education', u'education_num', u'marital_status', u'occupation', u'relationship', u'ethnicity', u'gender', u'capital_gain', u'capital_loss', u'hours_per_week', u'country_of_origin', u'income'], dtype='object')"
      ]
     },
     "execution_count": 40,
     "metadata": {},
     "output_type": "execute_result"
    }
   ],
   "source": [
    "df.columns"
   ]
  },
  {
   "cell_type": "code",
   "execution_count": 41,
   "metadata": {
    "collapsed": true
   },
   "outputs": [],
   "source": [
    "# replace a column name\n",
    "df.rename(columns = {'country_of_origin' : 'native_country'}, inplace = True)"
   ]
  },
  {
   "cell_type": "markdown",
   "metadata": {},
   "source": [
    "## Boolean"
   ]
  },
  {
   "cell_type": "code",
   "execution_count": 42,
   "metadata": {
    "collapsed": false
   },
   "outputs": [
    {
     "data": {
      "text/plain": [
       "array(['United-States', 'Cuba', 'Jamaica', 'India', '?', 'Mexico', 'South',\n",
       "       'Puerto-Rico', 'Honduras', 'England', 'Canada', 'Germany', 'Iran',\n",
       "       'Philippines', 'Italy', 'Poland', 'Columbia', 'Cambodia',\n",
       "       'Thailand', 'Ecuador', 'Laos', 'Taiwan', 'Haiti', 'Portugal',\n",
       "       'Dominican-Republic', 'El-Salvador', 'France', 'Guatemala', 'China',\n",
       "       'Japan', 'Yugoslavia', 'Peru', 'Outlying-US(Guam-USVI-etc)',\n",
       "       'Scotland', 'Trinadad&Tobago', 'Greece', 'Nicaragua', 'Vietnam',\n",
       "       'Hong', 'Ireland', 'Hungary', 'Holand-Netherlands'], dtype=object)"
      ]
     },
     "execution_count": 42,
     "metadata": {},
     "output_type": "execute_result"
    }
   ],
   "source": [
    "df.native_country.unique()"
   ]
  },
  {
   "cell_type": "code",
   "execution_count": 43,
   "metadata": {
    "collapsed": false
   },
   "outputs": [
    {
     "data": {
      "text/html": [
       "<div style=\"max-height:1000px;max-width:1500px;overflow:auto;\">\n",
       "<table border=\"1\" class=\"dataframe\">\n",
       "  <thead>\n",
       "    <tr style=\"text-align: right;\">\n",
       "      <th></th>\n",
       "      <th>age</th>\n",
       "      <th>workclass</th>\n",
       "      <th>fnlwgt</th>\n",
       "      <th>education</th>\n",
       "      <th>education_num</th>\n",
       "      <th>marital_status</th>\n",
       "      <th>occupation</th>\n",
       "      <th>relationship</th>\n",
       "      <th>ethnicity</th>\n",
       "      <th>gender</th>\n",
       "      <th>capital_gain</th>\n",
       "      <th>capital_loss</th>\n",
       "      <th>hours_per_week</th>\n",
       "      <th>native_country</th>\n",
       "      <th>income</th>\n",
       "    </tr>\n",
       "  </thead>\n",
       "  <tbody>\n",
       "    <tr>\n",
       "      <th>0</th>\n",
       "      <td> 39</td>\n",
       "      <td>        State-gov</td>\n",
       "      <td>  77516</td>\n",
       "      <td> Bachelors</td>\n",
       "      <td> 13</td>\n",
       "      <td>      Never-married</td>\n",
       "      <td>      Adm-clerical</td>\n",
       "      <td> Not-in-family</td>\n",
       "      <td> White</td>\n",
       "      <td>   Male</td>\n",
       "      <td> 2174</td>\n",
       "      <td> 0</td>\n",
       "      <td> 40</td>\n",
       "      <td> United-States</td>\n",
       "      <td> &lt;=50K</td>\n",
       "    </tr>\n",
       "    <tr>\n",
       "      <th>1</th>\n",
       "      <td> 50</td>\n",
       "      <td> Self-emp-not-inc</td>\n",
       "      <td>  83311</td>\n",
       "      <td> Bachelors</td>\n",
       "      <td> 13</td>\n",
       "      <td> Married-civ-spouse</td>\n",
       "      <td>   Exec-managerial</td>\n",
       "      <td>       Husband</td>\n",
       "      <td> White</td>\n",
       "      <td>   Male</td>\n",
       "      <td>    0</td>\n",
       "      <td> 0</td>\n",
       "      <td> 13</td>\n",
       "      <td> United-States</td>\n",
       "      <td> &lt;=50K</td>\n",
       "    </tr>\n",
       "    <tr>\n",
       "      <th>2</th>\n",
       "      <td> 38</td>\n",
       "      <td>          Private</td>\n",
       "      <td> 215646</td>\n",
       "      <td>   HS-grad</td>\n",
       "      <td>  9</td>\n",
       "      <td>           Divorced</td>\n",
       "      <td> Handlers-cleaners</td>\n",
       "      <td> Not-in-family</td>\n",
       "      <td> White</td>\n",
       "      <td>   Male</td>\n",
       "      <td>    0</td>\n",
       "      <td> 0</td>\n",
       "      <td> 40</td>\n",
       "      <td> United-States</td>\n",
       "      <td> &lt;=50K</td>\n",
       "    </tr>\n",
       "    <tr>\n",
       "      <th>3</th>\n",
       "      <td> 53</td>\n",
       "      <td>          Private</td>\n",
       "      <td> 234721</td>\n",
       "      <td>      11th</td>\n",
       "      <td>  7</td>\n",
       "      <td> Married-civ-spouse</td>\n",
       "      <td> Handlers-cleaners</td>\n",
       "      <td>       Husband</td>\n",
       "      <td> Black</td>\n",
       "      <td>   Male</td>\n",
       "      <td>    0</td>\n",
       "      <td> 0</td>\n",
       "      <td> 40</td>\n",
       "      <td> United-States</td>\n",
       "      <td> &lt;=50K</td>\n",
       "    </tr>\n",
       "    <tr>\n",
       "      <th>5</th>\n",
       "      <td> 37</td>\n",
       "      <td>          Private</td>\n",
       "      <td> 284582</td>\n",
       "      <td>   Masters</td>\n",
       "      <td> 14</td>\n",
       "      <td> Married-civ-spouse</td>\n",
       "      <td>   Exec-managerial</td>\n",
       "      <td>          Wife</td>\n",
       "      <td> White</td>\n",
       "      <td> Female</td>\n",
       "      <td>    0</td>\n",
       "      <td> 0</td>\n",
       "      <td> 40</td>\n",
       "      <td> United-States</td>\n",
       "      <td> &lt;=50K</td>\n",
       "    </tr>\n",
       "  </tbody>\n",
       "</table>\n",
       "</div>"
      ],
      "text/plain": [
       "   age         workclass  fnlwgt  education  education_num  \\\n",
       "0   39         State-gov   77516  Bachelors             13   \n",
       "1   50  Self-emp-not-inc   83311  Bachelors             13   \n",
       "2   38           Private  215646    HS-grad              9   \n",
       "3   53           Private  234721       11th              7   \n",
       "5   37           Private  284582    Masters             14   \n",
       "\n",
       "       marital_status         occupation   relationship ethnicity  gender  \\\n",
       "0       Never-married       Adm-clerical  Not-in-family     White    Male   \n",
       "1  Married-civ-spouse    Exec-managerial        Husband     White    Male   \n",
       "2            Divorced  Handlers-cleaners  Not-in-family     White    Male   \n",
       "3  Married-civ-spouse  Handlers-cleaners        Husband     Black    Male   \n",
       "5  Married-civ-spouse    Exec-managerial           Wife     White  Female   \n",
       "\n",
       "   capital_gain  capital_loss  hours_per_week native_country income  \n",
       "0          2174             0              40  United-States  <=50K  \n",
       "1             0             0              13  United-States  <=50K  \n",
       "2             0             0              40  United-States  <=50K  \n",
       "3             0             0              40  United-States  <=50K  \n",
       "5             0             0              40  United-States  <=50K  "
      ]
     },
     "execution_count": 43,
     "metadata": {},
     "output_type": "execute_result"
    }
   ],
   "source": [
    "df[df.native_country == 'United-States'].head()"
   ]
  },
  {
   "cell_type": "code",
   "execution_count": 44,
   "metadata": {
    "collapsed": false
   },
   "outputs": [
    {
     "data": {
      "text/html": [
       "<div style=\"max-height:1000px;max-width:1500px;overflow:auto;\">\n",
       "<table border=\"1\" class=\"dataframe\">\n",
       "  <thead>\n",
       "    <tr style=\"text-align: right;\">\n",
       "      <th></th>\n",
       "      <th>age</th>\n",
       "      <th>workclass</th>\n",
       "      <th>fnlwgt</th>\n",
       "      <th>education</th>\n",
       "      <th>education_num</th>\n",
       "      <th>marital_status</th>\n",
       "      <th>occupation</th>\n",
       "      <th>relationship</th>\n",
       "      <th>ethnicity</th>\n",
       "      <th>gender</th>\n",
       "      <th>capital_gain</th>\n",
       "      <th>capital_loss</th>\n",
       "      <th>hours_per_week</th>\n",
       "      <th>native_country</th>\n",
       "      <th>income</th>\n",
       "    </tr>\n",
       "  </thead>\n",
       "  <tbody>\n",
       "    <tr>\n",
       "      <th>4 </th>\n",
       "      <td> 28</td>\n",
       "      <td>   Private</td>\n",
       "      <td> 338409</td>\n",
       "      <td>    Bachelors</td>\n",
       "      <td> 13</td>\n",
       "      <td> Married-civ-spouse</td>\n",
       "      <td> Prof-specialty</td>\n",
       "      <td>    Wife</td>\n",
       "      <td>              Black</td>\n",
       "      <td> Female</td>\n",
       "      <td> 0</td>\n",
       "      <td> 0</td>\n",
       "      <td> 40</td>\n",
       "      <td>  Cuba</td>\n",
       "      <td> &lt;=50K</td>\n",
       "    </tr>\n",
       "    <tr>\n",
       "      <th>11</th>\n",
       "      <td> 30</td>\n",
       "      <td> State-gov</td>\n",
       "      <td> 141297</td>\n",
       "      <td>    Bachelors</td>\n",
       "      <td> 13</td>\n",
       "      <td> Married-civ-spouse</td>\n",
       "      <td> Prof-specialty</td>\n",
       "      <td> Husband</td>\n",
       "      <td> Asian-Pac-Islander</td>\n",
       "      <td>   Male</td>\n",
       "      <td> 0</td>\n",
       "      <td> 0</td>\n",
       "      <td> 40</td>\n",
       "      <td> India</td>\n",
       "      <td>  &gt;50K</td>\n",
       "    </tr>\n",
       "    <tr>\n",
       "      <th>14</th>\n",
       "      <td> 40</td>\n",
       "      <td>   Private</td>\n",
       "      <td> 121772</td>\n",
       "      <td>    Assoc-voc</td>\n",
       "      <td> 11</td>\n",
       "      <td> Married-civ-spouse</td>\n",
       "      <td>   Craft-repair</td>\n",
       "      <td> Husband</td>\n",
       "      <td> Asian-Pac-Islander</td>\n",
       "      <td>   Male</td>\n",
       "      <td> 0</td>\n",
       "      <td> 0</td>\n",
       "      <td> 40</td>\n",
       "      <td>     ?</td>\n",
       "      <td>  &gt;50K</td>\n",
       "    </tr>\n",
       "    <tr>\n",
       "      <th>27</th>\n",
       "      <td> 54</td>\n",
       "      <td>         ?</td>\n",
       "      <td> 180211</td>\n",
       "      <td> Some-college</td>\n",
       "      <td> 10</td>\n",
       "      <td> Married-civ-spouse</td>\n",
       "      <td>              ?</td>\n",
       "      <td> Husband</td>\n",
       "      <td> Asian-Pac-Islander</td>\n",
       "      <td>   Male</td>\n",
       "      <td> 0</td>\n",
       "      <td> 0</td>\n",
       "      <td> 60</td>\n",
       "      <td> South</td>\n",
       "      <td>  &gt;50K</td>\n",
       "    </tr>\n",
       "    <tr>\n",
       "      <th>38</th>\n",
       "      <td> 31</td>\n",
       "      <td>   Private</td>\n",
       "      <td>  84154</td>\n",
       "      <td> Some-college</td>\n",
       "      <td> 10</td>\n",
       "      <td> Married-civ-spouse</td>\n",
       "      <td>          Sales</td>\n",
       "      <td> Husband</td>\n",
       "      <td>              White</td>\n",
       "      <td>   Male</td>\n",
       "      <td> 0</td>\n",
       "      <td> 0</td>\n",
       "      <td> 38</td>\n",
       "      <td>     ?</td>\n",
       "      <td>  &gt;50K</td>\n",
       "    </tr>\n",
       "  </tbody>\n",
       "</table>\n",
       "</div>"
      ],
      "text/plain": [
       "    age  workclass  fnlwgt     education  education_num      marital_status  \\\n",
       "4    28    Private  338409     Bachelors             13  Married-civ-spouse   \n",
       "11   30  State-gov  141297     Bachelors             13  Married-civ-spouse   \n",
       "14   40    Private  121772     Assoc-voc             11  Married-civ-spouse   \n",
       "27   54          ?  180211  Some-college             10  Married-civ-spouse   \n",
       "38   31    Private   84154  Some-college             10  Married-civ-spouse   \n",
       "\n",
       "        occupation relationship           ethnicity  gender  capital_gain  \\\n",
       "4   Prof-specialty         Wife               Black  Female             0   \n",
       "11  Prof-specialty      Husband  Asian-Pac-Islander    Male             0   \n",
       "14    Craft-repair      Husband  Asian-Pac-Islander    Male             0   \n",
       "27               ?      Husband  Asian-Pac-Islander    Male             0   \n",
       "38           Sales      Husband               White    Male             0   \n",
       "\n",
       "    capital_loss  hours_per_week native_country income  \n",
       "4              0              40           Cuba  <=50K  \n",
       "11             0              40          India   >50K  \n",
       "14             0              40              ?   >50K  \n",
       "27             0              60          South   >50K  \n",
       "38             0              38              ?   >50K  "
      ]
     },
     "execution_count": 44,
     "metadata": {},
     "output_type": "execute_result"
    }
   ],
   "source": [
    "df[(df.native_country != 'United-States') & (df.education_num > 9)].head()"
   ]
  },
  {
   "cell_type": "code",
   "execution_count": 45,
   "metadata": {
    "collapsed": false
   },
   "outputs": [
    {
     "data": {
      "text/plain": [
       "<=50K    1137\n",
       ">50K      536\n",
       "dtype: int64"
      ]
     },
     "execution_count": 45,
     "metadata": {},
     "output_type": "execute_result"
    }
   ],
   "source": [
    "df[(df.native_country != 'United-States') & (df.education_num > 9)].income.value_counts()"
   ]
  },
  {
   "cell_type": "markdown",
   "metadata": {},
   "source": [
    "## Groupby"
   ]
  },
  {
   "cell_type": "code",
   "execution_count": 46,
   "metadata": {
    "collapsed": false
   },
   "outputs": [
    {
     "data": {
      "text/html": [
       "<div style=\"max-height:1000px;max-width:1500px;overflow:auto;\">\n",
       "<table border=\"1\" class=\"dataframe\">\n",
       "  <thead>\n",
       "    <tr style=\"text-align: right;\">\n",
       "      <th></th>\n",
       "      <th>age</th>\n",
       "      <th>fnlwgt</th>\n",
       "      <th>education_num</th>\n",
       "      <th>capital_gain</th>\n",
       "      <th>capital_loss</th>\n",
       "      <th>hours_per_week</th>\n",
       "    </tr>\n",
       "    <tr>\n",
       "      <th>relationship</th>\n",
       "      <th></th>\n",
       "      <th></th>\n",
       "      <th></th>\n",
       "      <th></th>\n",
       "      <th></th>\n",
       "      <th></th>\n",
       "    </tr>\n",
       "  </thead>\n",
       "  <tbody>\n",
       "    <tr>\n",
       "      <th>Husband</th>\n",
       "      <td> 43.82</td>\n",
       "      <td> 187074.86</td>\n",
       "      <td> 10.33</td>\n",
       "      <td> 1795.06</td>\n",
       "      <td> 124.16</td>\n",
       "      <td> 44.12</td>\n",
       "    </tr>\n",
       "    <tr>\n",
       "      <th>Not-in-family</th>\n",
       "      <td> 38.35</td>\n",
       "      <td> 191131.80</td>\n",
       "      <td> 10.32</td>\n",
       "      <td>  743.33</td>\n",
       "      <td>  75.39</td>\n",
       "      <td> 40.60</td>\n",
       "    </tr>\n",
       "    <tr>\n",
       "      <th>Other-relative</th>\n",
       "      <td> 33.16</td>\n",
       "      <td> 205059.82</td>\n",
       "      <td>  8.79</td>\n",
       "      <td>  279.60</td>\n",
       "      <td>  51.33</td>\n",
       "      <td> 37.01</td>\n",
       "    </tr>\n",
       "    <tr>\n",
       "      <th>Own-child</th>\n",
       "      <td> 24.83</td>\n",
       "      <td> 193175.41</td>\n",
       "      <td>  9.49</td>\n",
       "      <td>  155.66</td>\n",
       "      <td>  39.51</td>\n",
       "      <td> 33.27</td>\n",
       "    </tr>\n",
       "    <tr>\n",
       "      <th>Unmarried</th>\n",
       "      <td> 40.29</td>\n",
       "      <td> 191128.41</td>\n",
       "      <td>  9.64</td>\n",
       "      <td>  455.03</td>\n",
       "      <td>  41.46</td>\n",
       "      <td> 39.10</td>\n",
       "    </tr>\n",
       "    <tr>\n",
       "      <th>Wife</th>\n",
       "      <td> 39.85</td>\n",
       "      <td> 181849.51</td>\n",
       "      <td> 10.46</td>\n",
       "      <td> 1659.79</td>\n",
       "      <td> 118.01</td>\n",
       "      <td> 36.86</td>\n",
       "    </tr>\n",
       "  </tbody>\n",
       "</table>\n",
       "</div>"
      ],
      "text/plain": [
       "                  age     fnlwgt  education_num  capital_gain  capital_loss  \\\n",
       "relationship                                                                  \n",
       "Husband         43.82  187074.86          10.33       1795.06        124.16   \n",
       "Not-in-family   38.35  191131.80          10.32        743.33         75.39   \n",
       "Other-relative  33.16  205059.82           8.79        279.60         51.33   \n",
       "Own-child       24.83  193175.41           9.49        155.66         39.51   \n",
       "Unmarried       40.29  191128.41           9.64        455.03         41.46   \n",
       "Wife            39.85  181849.51          10.46       1659.79        118.01   \n",
       "\n",
       "                hours_per_week  \n",
       "relationship                    \n",
       "Husband                  44.12  \n",
       "Not-in-family            40.60  \n",
       "Other-relative           37.01  \n",
       "Own-child                33.27  \n",
       "Unmarried                39.10  \n",
       "Wife                     36.86  "
      ]
     },
     "execution_count": 46,
     "metadata": {},
     "output_type": "execute_result"
    }
   ],
   "source": [
    "# How to groupby column and apply a function like sum, count, or mean\n",
    "df.groupby(['relationship']).mean()"
   ]
  },
  {
   "cell_type": "code",
   "execution_count": 47,
   "metadata": {
    "collapsed": false
   },
   "outputs": [
    {
     "data": {
      "text/html": [
       "<div style=\"max-height:1000px;max-width:1500px;overflow:auto;\">\n",
       "<table border=\"1\" class=\"dataframe\">\n",
       "  <thead>\n",
       "    <tr style=\"text-align: right;\">\n",
       "      <th></th>\n",
       "      <th></th>\n",
       "      <th>count</th>\n",
       "      <th>mean</th>\n",
       "    </tr>\n",
       "    <tr>\n",
       "      <th>income</th>\n",
       "      <th>native_country</th>\n",
       "      <th></th>\n",
       "      <th></th>\n",
       "    </tr>\n",
       "  </thead>\n",
       "  <tbody>\n",
       "    <tr>\n",
       "      <th rowspan=\"10\" valign=\"top\">&lt;=50K</th>\n",
       "      <th>?</th>\n",
       "      <td>  437</td>\n",
       "      <td> 36.85</td>\n",
       "    </tr>\n",
       "    <tr>\n",
       "      <th>Cambodia</th>\n",
       "      <td>   12</td>\n",
       "      <td> 35.67</td>\n",
       "    </tr>\n",
       "    <tr>\n",
       "      <th>Canada</th>\n",
       "      <td>   82</td>\n",
       "      <td> 41.01</td>\n",
       "    </tr>\n",
       "    <tr>\n",
       "      <th>China</th>\n",
       "      <td>   55</td>\n",
       "      <td> 41.80</td>\n",
       "    </tr>\n",
       "    <tr>\n",
       "      <th>Columbia</th>\n",
       "      <td>   57</td>\n",
       "      <td> 39.23</td>\n",
       "    </tr>\n",
       "    <tr>\n",
       "      <th>Cuba</th>\n",
       "      <td>   70</td>\n",
       "      <td> 47.29</td>\n",
       "    </tr>\n",
       "    <tr>\n",
       "      <th>Dominican-Republic</th>\n",
       "      <td>   68</td>\n",
       "      <td> 37.94</td>\n",
       "    </tr>\n",
       "    <tr>\n",
       "      <th>Ecuador</th>\n",
       "      <td>   24</td>\n",
       "      <td> 34.83</td>\n",
       "    </tr>\n",
       "    <tr>\n",
       "      <th>El-Salvador</th>\n",
       "      <td>   97</td>\n",
       "      <td> 32.65</td>\n",
       "    </tr>\n",
       "    <tr>\n",
       "      <th>England</th>\n",
       "      <td>   60</td>\n",
       "      <td> 38.97</td>\n",
       "    </tr>\n",
       "    <tr>\n",
       "      <th>...</th>\n",
       "      <th>...</th>\n",
       "      <td>...</td>\n",
       "      <td>...</td>\n",
       "    </tr>\n",
       "    <tr>\n",
       "      <th rowspan=\"10\" valign=\"top\">&gt;50K</th>\n",
       "      <th>Portugal</th>\n",
       "      <td>    4</td>\n",
       "      <td> 40.00</td>\n",
       "    </tr>\n",
       "    <tr>\n",
       "      <th>Puerto-Rico</th>\n",
       "      <td>   12</td>\n",
       "      <td> 46.50</td>\n",
       "    </tr>\n",
       "    <tr>\n",
       "      <th>Scotland</th>\n",
       "      <td>    3</td>\n",
       "      <td> 52.67</td>\n",
       "    </tr>\n",
       "    <tr>\n",
       "      <th>South</th>\n",
       "      <td>   16</td>\n",
       "      <td> 44.88</td>\n",
       "    </tr>\n",
       "    <tr>\n",
       "      <th>Taiwan</th>\n",
       "      <td>   20</td>\n",
       "      <td> 40.80</td>\n",
       "    </tr>\n",
       "    <tr>\n",
       "      <th>Thailand</th>\n",
       "      <td>    3</td>\n",
       "      <td> 32.67</td>\n",
       "    </tr>\n",
       "    <tr>\n",
       "      <th>Trinadad&amp;Tobago</th>\n",
       "      <td>    2</td>\n",
       "      <td> 42.50</td>\n",
       "    </tr>\n",
       "    <tr>\n",
       "      <th>United-States</th>\n",
       "      <td> 7171</td>\n",
       "      <td> 44.30</td>\n",
       "    </tr>\n",
       "    <tr>\n",
       "      <th>Vietnam</th>\n",
       "      <td>    5</td>\n",
       "      <td> 35.40</td>\n",
       "    </tr>\n",
       "    <tr>\n",
       "      <th>Yugoslavia</th>\n",
       "      <td>    6</td>\n",
       "      <td> 40.17</td>\n",
       "    </tr>\n",
       "  </tbody>\n",
       "</table>\n",
       "<p>82 rows × 2 columns</p>\n",
       "</div>"
      ],
      "text/plain": [
       "                           count   mean\n",
       "income native_country                  \n",
       "<=50K  ?                     437  36.85\n",
       "       Cambodia               12  35.67\n",
       "       Canada                 82  41.01\n",
       "       China                  55  41.80\n",
       "       Columbia               57  39.23\n",
       "       Cuba                   70  47.29\n",
       "       Dominican-Republic     68  37.94\n",
       "       Ecuador                24  34.83\n",
       "       El-Salvador            97  32.65\n",
       "       England                60  38.97\n",
       "...                          ...    ...\n",
       ">50K   Portugal                4  40.00\n",
       "       Puerto-Rico            12  46.50\n",
       "       Scotland                3  52.67\n",
       "       South                  16  44.88\n",
       "       Taiwan                 20  40.80\n",
       "       Thailand                3  32.67\n",
       "       Trinadad&Tobago         2  42.50\n",
       "       United-States        7171  44.30\n",
       "       Vietnam                 5  35.40\n",
       "       Yugoslavia              6  40.17\n",
       "\n",
       "[82 rows x 2 columns]"
      ]
     },
     "execution_count": 47,
     "metadata": {},
     "output_type": "execute_result"
    }
   ],
   "source": [
    "# To groupby multiple columns with multiple functions attached\n",
    "df.groupby(['income', 'native_country']).age.agg(['count', 'mean'])\n",
    "# grouped in order of which column is listed first"
   ]
  },
  {
   "cell_type": "code",
   "execution_count": 48,
   "metadata": {
    "collapsed": false
   },
   "outputs": [
    {
     "data": {
      "text/plain": [
       "education\n",
       "10th            38.42\n",
       "11th            36.33\n",
       "12th            40.24\n",
       "1st-4th         40.27\n",
       "5th-6th         39.69\n",
       "7th-8th         40.41\n",
       "9th             38.08\n",
       "Assoc-acdm      38.74\n",
       "Assoc-voc       41.30\n",
       "Bachelors       41.84\n",
       "Doctorate       45.29\n",
       "HS-grad         40.32\n",
       "Masters         41.24\n",
       "Preschool       40.91\n",
       "Prof-school     47.03\n",
       "Some-college    38.74\n",
       "Name: hours_per_week, dtype: float64"
      ]
     },
     "execution_count": 48,
     "metadata": {},
     "output_type": "execute_result"
    }
   ],
   "source": [
    "# combine groupby with boolean\n",
    "\n",
    "df[df.native_country != 'United-States'].groupby(['education']).hours_per_week.mean()"
   ]
  },
  {
   "cell_type": "markdown",
   "metadata": {},
   "source": [
    "## plotting with pandas"
   ]
  },
  {
   "cell_type": "code",
   "execution_count": 49,
   "metadata": {
    "collapsed": false
   },
   "outputs": [
    {
     "data": {
      "image/png": "[encoded data removed]",
      "text/plain": [
       "<matplotlib.figure.Figure at 0x10d0d32d0>"
      ]
     },
     "metadata": {},
     "output_type": "display_data"
    }
   ],
   "source": [
    "df.age.hist(bins = 18);"
   ]
  },
  {
   "cell_type": "code",
   "execution_count": 50,
   "metadata": {
    "collapsed": false
   },
   "outputs": [
    {
     "data": {
      "image/png": "[encoded data removed]",
      "text/plain": [
       "<matplotlib.figure.Figure at 0x10d552350>"
      ]
     },
     "metadata": {},
     "output_type": "display_data"
    }
   ],
   "source": [
    "# split the histograms by another column (with relatively few unique values)\n",
    "df.hours_per_week.hist(by = df.income, bins = 25, figsize = (10,5));"
   ]
  },
  {
   "cell_type": "code",
   "execution_count": 51,
   "metadata": {
    "collapsed": false
   },
   "outputs": [
    {
     "data": {
      "text/plain": [
       "<matplotlib.axes._subplots.AxesSubplot at 0x10eb7ac50>"
      ]
     },
     "execution_count": 51,
     "metadata": {},
     "output_type": "execute_result"
    },
    {
     "data": {
      "image/png": "[encoded data removed]",
      "text/plain": [
       "<matplotlib.figure.Figure at 0x10e67e250>"
      ]
     },
     "metadata": {},
     "output_type": "display_data"
    }
   ],
   "source": [
    "# use value_counts() and a bar plot\n",
    "df['workclass'].value_counts().plot(kind = 'bar')"
   ]
  },
  {
   "cell_type": "code",
   "execution_count": 52,
   "metadata": {
    "collapsed": false
   },
   "outputs": [
    {
     "data": {
      "image/png": "[encoded data removed]",
      "text/plain": [
       "<matplotlib.figure.Figure at 0x10eaba210>"
      ]
     },
     "metadata": {},
     "output_type": "display_data"
    }
   ],
   "source": [
    "df.boxplot(['age'], by = 'relationship');"
   ]
  },
  {
   "cell_type": "code",
   "execution_count": 53,
   "metadata": {
    "collapsed": false
   },
   "outputs": [
    {
     "data": {
      "text/plain": [
       "<matplotlib.axes._subplots.AxesSubplot at 0x10f01b910>"
      ]
     },
     "execution_count": 53,
     "metadata": {},
     "output_type": "execute_result"
    },
    {
     "data": {
      "image/png": "[encoded data removed]",
      "text/plain": [
       "<matplotlib.figure.Figure at 0x10eaa5a50>"
      ]
     },
     "metadata": {},
     "output_type": "display_data"
    }
   ],
   "source": [
    "df.plot(kind='scatter',\n",
    "        x = 'age',\n",
    "        y ='hours_per_week',\n",
    "        alpha = .25,\n",
    "        figsize = (10,5))"
   ]
  },
  {
   "cell_type": "markdown",
   "metadata": {},
   "source": [
    "## Practice Exercises"
   ]
  },
  {
   "cell_type": "code",
   "execution_count": 54,
   "metadata": {
    "collapsed": true
   },
   "outputs": [],
   "source": [
    "# how many males and females are in this data set"
   ]
  },
  {
   "cell_type": "code",
   "execution_count": null,
   "metadata": {
    "collapsed": true
   },
   "outputs": [],
   "source": []
  },
  {
   "cell_type": "code",
   "execution_count": 56,
   "metadata": {
    "collapsed": true
   },
   "outputs": [],
   "source": [
    "# plot the total number of people in each occupation"
   ]
  },
  {
   "cell_type": "code",
   "execution_count": null,
   "metadata": {
    "collapsed": true
   },
   "outputs": [],
   "source": []
  },
  {
   "cell_type": "code",
   "execution_count": 58,
   "metadata": {
    "collapsed": false
   },
   "outputs": [],
   "source": [
    "# what is the lowest average age of an occupation"
   ]
  },
  {
   "cell_type": "code",
   "execution_count": null,
   "metadata": {
    "collapsed": true
   },
   "outputs": [],
   "source": []
  },
  {
   "cell_type": "code",
   "execution_count": 60,
   "metadata": {
    "collapsed": true
   },
   "outputs": [],
   "source": [
    "# create a boxplot of hours per week by education level"
   ]
  },
  {
   "cell_type": "code",
   "execution_count": null,
   "metadata": {
    "collapsed": true
   },
   "outputs": [],
   "source": []
  },
  {
   "cell_type": "code",
   "execution_count": 62,
   "metadata": {
    "collapsed": true
   },
   "outputs": [],
   "source": [
    "# create a new column for income where >50K = 1 and <=50K = 0\n",
    "\n",
    "# hint... http://pandas.pydata.org/pandas-docs/stable/generated/pandas.DataFrame.replace.html"
   ]
  },
  {
   "cell_type": "code",
   "execution_count": null,
   "metadata": {
    "collapsed": true
   },
   "outputs": [],
   "source": []
  },
  {
   "cell_type": "code",
   "execution_count": 64,
   "metadata": {
    "collapsed": true
   },
   "outputs": [],
   "source": [
    "# find which \"native_country\" has the highest percent of people earning >50K"
   ]
  },
  {
   "cell_type": "code",
   "execution_count": null,
   "metadata": {
    "collapsed": true
   },
   "outputs": [],
   "source": []
  },
  {
   "cell_type": "code",
   "execution_count": 66,
   "metadata": {
    "collapsed": true
   },
   "outputs": [],
   "source": [
    "# visualize what percent of people earn over 50K by education level"
   ]
  },
  {
   "cell_type": "code",
   "execution_count": null,
   "metadata": {
    "collapsed": true
   },
   "outputs": [],
   "source": []
  },
  {
   "cell_type": "markdown",
   "metadata": {},
   "source": [
    "## Extra practice"
   ]
  },
  {
   "cell_type": "code",
   "execution_count": null,
   "metadata": {
    "collapsed": true
   },
   "outputs": [],
   "source": [
    "# make a hexbin plot"
   ]
  },
  {
   "cell_type": "code",
   "execution_count": null,
   "metadata": {
    "collapsed": true
   },
   "outputs": [],
   "source": []
  },
  {
   "cell_type": "markdown",
   "metadata": {},
   "source": [
    "http://pandas.pydata.org/pandas-docs/stable/generated/pandas.DataFrame.plot.html"
   ]
  },
  {
   "cell_type": "code",
   "execution_count": 68,
   "metadata": {
    "collapsed": true
   },
   "outputs": [],
   "source": [
    "# check out plotting with Seaborn"
   ]
  },
  {
   "cell_type": "markdown",
   "metadata": {},
   "source": [
    "http://nbviewer.ipython.org/gist/mwaskom/8224591"
   ]
  },
  {
   "cell_type": "markdown",
   "metadata": {},
   "source": [
    "http://stanford.edu/~mwaskom/software/seaborn/tutorial/plotting_distributions.html"
   ]
  }
 ],
 "metadata": {
  "kernelspec": {
   "display_name": "Python 2",
   "language": "python",
   "name": "python2"
  },
  "language_info": {
   "codemirror_mode": {
    "name": "ipython",
    "version": 2
   },
   "file_extension": ".py",
   "mimetype": "text/x-python",
   "name": "python",
   "nbconvert_exporter": "python",
   "pygments_lexer": "ipython2",
   "version": "2.7.9"
  }
 },
 "nbformat": 4,
 "nbformat_minor": 0
}
